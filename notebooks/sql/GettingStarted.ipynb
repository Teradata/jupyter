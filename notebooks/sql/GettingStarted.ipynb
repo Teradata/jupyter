{
 "cells": [
  {
   "cell_type": "markdown",
   "metadata": {},
   "source": [
    "<h2>Welcome to Teradata SQL extension for Jupyter </h2>\n",
    "<p>\n",
    "This notebook provides information to help you get started with the Teradata kernel and extensions for JupyterLab.  Note that you must add Teradata NewSQL Engine connections in order to execute SQL statements within your notebook.  \n",
    "    \n",
    "[Visit our landing page for more information and downloads](https://teradata.github.io/jupyterextensions/)\n",
    "<p>\n",
    "<h2>Features</h2>\n",
    "\n",
    "<h3> The SQL Kernel Provides:</h3>\n",
    "<ul>\n",
    "<li>Connection management to add, remove, connect, and list connections</li>\n",
    "<li>Query engine that uses embedded Teradata SQL driver</li>\n",
    "<li>SQL aware notebook with SQL content assist and syntax checking</li>\n",
    "<li>Result set renderer that displays result data in easy to read, pageable grid</li>\n",
    "<li>Execution history that stores execution metadata to recall SQL commands at a later time</li>\n",
    "<li>Visualization using VegaLite library to display charts, graphs, plots, etc.</li>\n",
    "<li>Magic commands that provide additional custom kernel options to enhance Teradata user experience</li>\n",
    "</ul>\n",
    "\n",
    "\n",
    "<h3> The Navigator Provides:</h3>\n",
    "<ul>\n",
    "<li>The ability for users to explore the NewSQL Engine catalog, regardless of the language you are using in your notebook (SQL, Python, R).</li>\n",
    "<li>Hierarchical display of SQL object relational model</li>\n",
    "<li>Column metadata showing data type and indexes</li>\n",
    "<li>Row Count and Column Distribution menu options</li>\n",
    "</ul>\n",
    "\n",
    "<h4>Refer to the GettingStartedDemo notebook for a live example running Teradata SQL kernel magics.</h4>\n"
   ]
  },
  {
   "cell_type": "markdown",
   "metadata": {},
   "source": [
    "<h2>Using the Navigator</h2>\n",
    "<p>\n",
    "<ul>\n",
    "<li>Launched from JupyterLab Launcher or Commands list</li>\n",
    "<li>Select connection profile (Connection profiles are created using the Teradata SQL Notebook)</li>\n",
    "<li>Column data type metadata provided</li>\n",
    "<li>Right click options available (such as Row Count)</li>\n",
    "</ul>\n"
   ]
  },
  {
   "cell_type": "markdown",
   "metadata": {},
   "source": [
    "***\n",
    "## Teradata SQL Kernel\n",
    "#### A Teradata SQL Notebook can be opened by selecting the Teradata icon on the launcher page"
   ]
  },
  {
   "cell_type": "markdown",
   "metadata": {},
   "source": [
    "***\n",
    "## Magic commands (aka magics)\n",
    "#### The Teradata SQL Kernel supports a set of magics that can be use to perform a variety of operations\n",
    "Full list of magics provided with Teradata SQL Kernel can be seen by entering %help.<br><br>\n",
    "Some magic commands have parameters in the form name=value, name2=value2.<br>\n",
    "In these cases\n",
    "1. the parameter names are not case sensitive\n",
    "2. the values can be quoted with double quotes. Quoting of values is only required if the value contains any of the characters , = \" \\n"
   ]
  },
  {
   "cell_type": "code",
   "execution_count": null,
   "metadata": {},
   "outputs": [],
   "source": [
    "%help"
   ]
  },
  {
   "cell_type": "markdown",
   "metadata": {},
   "source": [
    "#### A list of the \"magics\" without descriptions can be displayed with the %lsmagic command"
   ]
  },
  {
   "cell_type": "code",
   "execution_count": 14,
   "metadata": {},
   "outputs": [
    {
     "name": "stdout",
     "output_type": "stream",
     "text": [
      "%addconnect\n",
      "%connect\n",
      "%disconnect\n",
      "%rmconnect\n",
      "%lsconnect\n",
      "%chart\n",
      "%table\n",
      "%meta\n",
      "%history\n",
      "%pyinfo\n",
      "%rinfo\n",
      "%runsto\n",
      "%installfile\n",
      "%rmfile\n",
      "%showfile\n",
      "%lsmagic\n",
      "%quickref\n",
      "%help\n"
     ]
    }
   ],
   "source": [
    "%lsmagic"
   ]
  },
  {
   "cell_type": "markdown",
   "metadata": {},
   "source": [
    "#### Help for a specific command can be displayed by adding the command name (without the %)"
   ]
  },
  {
   "cell_type": "code",
   "execution_count": 15,
   "metadata": {},
   "outputs": [
    {
     "name": "stdout",
     "output_type": "stream",
     "text": [
      "%chart x=<XColumnName>, y=<YColumnName>,\n",
      "\t[title=<ChartTitle>,] [id=<ResultSetID>|<HistoryID>,] [part=<PartNum>]\n",
      "\t[labelx=<XLabel>,] [labely=<YLabel>,]\n",
      "\t[gridx=true|false,] [gridy=true|false,]\n",
      "\t[typex=q|n|o|t,] [typey=q|n|o|t,]\n",
      "\t[mark=area|bar|circle|line|point|rect|rule|square|text|tick,]\n",
      "\tDisplay a Vega-Lite visualization of the most recently accessed or specified result set.\n",
      "\t\ttypex and typey values: q=quantitative n=nominal o=ordinal t=temporal (defaults based on column type:\n",
      "\t\tnumeric types -> quantitative, time times -> temporal, other types -> nominal)\n",
      "\t\t<ResultSetID> is the timestamp/directory name of the result set.\n",
      "\t\t<HistoryID> is the id of the history item (see %history command).\n",
      "\t\tIf the id is not specified, the most recently accessed result set is displayed."
     ]
    }
   ],
   "source": [
    "%help chart"
   ]
  },
  {
   "cell_type": "markdown",
   "metadata": {},
   "source": [
    "***\n",
    "## Managing Teradata NewSQL Engine connections\n",
    "\n",
    "Before accessing a Teradata NewSQL Engine, we need to create a connection.<br>\n",
    "This is a two step process.\n",
    "1. add a new connection definition (%addconnect) (if one does not already exist)\n",
    "2. connect (%connect)\n",
    "***"
   ]
  },
  {
   "cell_type": "markdown",
   "metadata": {},
   "source": [
    "### List existing connections with the %lsconnect command\n"
   ]
  },
  {
   "cell_type": "code",
   "execution_count": 16,
   "metadata": {},
   "outputs": [
    {
     "name": "stdout",
     "output_type": "stream",
     "text": [
      "Disconnected: NAME=peach, USER=dbc, HOST=peach1\n",
      "Disconnected: NAME=teradata-vantage, USER=dbc, HOST=vantage1\n"
     ]
    }
   ],
   "source": [
    "%lsconnect"
   ]
  },
  {
   "cell_type": "markdown",
   "metadata": {},
   "source": [
    "### Add a new connection with the %addconnect command\n",
    "- **NAME** - the user-assigned name of the connection to be created\n",
    "- **USER** - the user name to log in\n",
    "- **HOST** - the host name or IP address\n",
    "\n",
    "The parameter names are not case sensitive (NAME, name, Name, etc)."
   ]
  },
  {
   "cell_type": "code",
   "execution_count": 17,
   "metadata": {},
   "outputs": [
    {
     "name": "stdout",
     "output_type": "stream",
     "text": [
      "%addconnect NAME=<Connection Name>, USER=<User Name>, HOST=<Database Server Name or IP Address>[, PROPS=\"<DB Properties>\"]\n",
      "\tAdd a Teradata database connection specification. Parameter names (NAME, USER, HOST, etc) are not case sensitive.\n",
      "\tBy default, the connection to the database is encrypted. To disable encryption (not recommended), use PROPS=\"encryptdata=false\".\n",
      "\tBy default, the 'tmode' property is set to 'DEFAULT'. Valid options are ANSI | TERA | DEFAULT. To change the tmode setting, \n",
      "\tto ANSI, for example, use PROPS=\"tmode=ANSI\".\n",
      "\tMultiple DB properties can be passed in a comma-separated list, i.e. props=\"encryptdata=false, tmode=ANSI\".\n",
      "\tThe connection specification will be saved and can be used in the %connect, %disconnect and %rmconnect commands."
     ]
    }
   ],
   "source": [
    "%help addconnect"
   ]
  },
  {
   "cell_type": "markdown",
   "metadata": {},
   "source": [
    "### Remove a connection with the %rmconnect magic"
   ]
  },
  {
   "cell_type": "code",
   "execution_count": 18,
   "metadata": {},
   "outputs": [
    {
     "name": "stdout",
     "output_type": "stream",
     "text": [
      "%rmconnect <Connection Name>\n",
      "\tRemove the named connection specification"
     ]
    }
   ],
   "source": [
    "%help rmconnect"
   ]
  },
  {
   "cell_type": "markdown",
   "metadata": {},
   "source": [
    "### Connect with the %connect command\n",
    "The connection name is required. The password is required if this connection is not yet connected.\n",
    "If the password is required and is not specified, a password prompt will be displayed to allow the password to be entered in a hidden text field.\n",
    "It is generally more secure not to specify the password on the %connect command because the password will be visible on-screen and will be saved as part of the notebook."
   ]
  },
  {
   "cell_type": "code",
   "execution_count": 19,
   "metadata": {},
   "outputs": [
    {
     "name": "stdout",
     "output_type": "stream",
     "text": [
      "%connect | %%connect [NAME=]<Connection Name> [,[PASSWORD=]<Password>] [,ROWCOUNT=<rowcount>]\n",
      "\t%connect will make the named connection the active connection.\n",
      "\tIf rowcount is passed in, the kernel will use\tthe rowcount to limit the number of rows displayed in\n",
      "\tthe result set. Setting the rowcount must use the name/value pair syntax, such as \"rowcount=100\".\n",
      "\t%%connect is a cell magic command and can be followed in the same cell by a SQL statement\n",
      "\t\tThis will set the connection used for this SQL statement but will not change the active connection.\n",
      "\tPassword is required only if not already connected. If the password is required and is not specified,\n",
      "\t\ta password prompt will be displayed and the password can be entered in a hidden text field (recommended).\n",
      "\tRowcount is optional and must use the name/value pair syntax. If rowcount is provided, it will only be applied to \n",
      "\tthe result set returned for the cell SQL statement.\n",
      "\t\n",
      "\t'%help rowcount' command will display the current rowcount value."
     ]
    }
   ],
   "source": [
    "%help connect"
   ]
  },
  {
   "cell_type": "markdown",
   "metadata": {},
   "source": [
    "### Select the Teradata NewSQL Engine to connect to"
   ]
  },
  {
   "cell_type": "code",
   "execution_count": 59,
   "metadata": {},
   "outputs": [
    {
     "name": "stdout",
     "output_type": "stream",
     "text": [
      "Disconnected: NAME=peach, USER=dbc, HOST=peach1\n",
      "Disconnected: NAME=teradata-vantage, USER=dbc, HOST=vantage1\n"
     ]
    }
   ],
   "source": [
    "%lsconnect"
   ]
  },
  {
   "cell_type": "code",
   "execution_count": 61,
   "metadata": {},
   "outputs": [
    {
     "name": "stdin",
     "output_type": "stream",
     "text": [
      "Password ···\n"
     ]
    },
    {
     "name": "stdout",
     "output_type": "stream",
     "text": [
      "Success: 'teradata-vantage' connection established\n"
     ]
    }
   ],
   "source": [
    "%connect teradata-vantage"
   ]
  },
  {
   "cell_type": "markdown",
   "metadata": {},
   "source": [
    "#### When a connection is first established, it will prompt you for the password. It will be shown in the %lsconnect output as '*Connected'\n",
    "The asterisk indicates that this is the active connection (only one connection is **active** at a time, although more that one can be **connected**)"
   ]
  },
  {
   "cell_type": "code",
   "execution_count": 79,
   "metadata": {},
   "outputs": [
    {
     "name": "stdout",
     "output_type": "stream",
     "text": [
      "Success: 'peach' connection established\n"
     ]
    }
   ],
   "source": [
    "%connect peach"
   ]
  },
  {
   "cell_type": "code",
   "execution_count": 80,
   "metadata": {},
   "outputs": [
    {
     "name": "stdout",
     "output_type": "stream",
     "text": [
      "*Connected:   NAME=peach, USER=dbc, HOST=peach1\n",
      "Connected:    NAME=teradata-vantage, USER=dbc, HOST=vantage1\n"
     ]
    }
   ],
   "source": [
    "%lsconnect"
   ]
  },
  {
   "cell_type": "markdown",
   "metadata": {},
   "source": [
    "### Make a connection active with the %connect command\n",
    "If already connected, the %connect command will make the specified connection the active connection. No password is required in this case."
   ]
  },
  {
   "cell_type": "code",
   "execution_count": 81,
   "metadata": {},
   "outputs": [
    {
     "name": "stdout",
     "output_type": "stream",
     "text": [
      "Success: 'teradata-vantage' connection established\n"
     ]
    }
   ],
   "source": [
    "%connect teradata-vantage"
   ]
  },
  {
   "cell_type": "code",
   "execution_count": 82,
   "metadata": {},
   "outputs": [
    {
     "name": "stdout",
     "output_type": "stream",
     "text": [
      "Connected:    NAME=peach, USER=dbc, HOST=peach1\n",
      "*Connected:   NAME=teradata-vantage, USER=dbc, HOST=vantage1\n"
     ]
    }
   ],
   "source": [
    "%lsconnect"
   ]
  },
  {
   "cell_type": "markdown",
   "metadata": {},
   "source": [
    "### Disconnect with the %disconnect command"
   ]
  },
  {
   "cell_type": "code",
   "execution_count": 84,
   "metadata": {},
   "outputs": [
    {
     "name": "stdout",
     "output_type": "stream",
     "text": [
      "Success: 'teradata-vantage' disconnected"
     ]
    }
   ],
   "source": [
    "%disconnect teradata-vantage"
   ]
  },
  {
   "cell_type": "code",
   "execution_count": 85,
   "metadata": {},
   "outputs": [
    {
     "name": "stdout",
     "output_type": "stream",
     "text": [
      "Connected:    NAME=peach, USER=dbc, HOST=peach1\n",
      "Disconnected: NAME=teradata-vantage, USER=dbc, HOST=vantage1\n"
     ]
    }
   ],
   "source": [
    "%lsconnect"
   ]
  },
  {
   "cell_type": "markdown",
   "metadata": {},
   "source": [
    "***\n",
    "## Executing SQL"
   ]
  },
  {
   "cell_type": "markdown",
   "metadata": {},
   "source": [
    "### To execute SQL, simply enter the SQL in a cell and execute the cell (shift-enter or the run button in the toolbar)\n",
    "#### The active connection will be used to run the SQL. Query results (if any) will be displayed in a table.\n",
    "#### Hitting the Tab key provides content assist, for example the list of databases, tables, available.  This query is just an example, you'll need to specify one that will run on your selected connection."
   ]
  },
  {
   "cell_type": "code",
   "execution_count": 86,
   "metadata": {},
   "outputs": [
    {
     "name": "stdout",
     "output_type": "stream",
     "text": [
      "Success: 'peach' connection established\n"
     ]
    }
   ],
   "source": [
    "%connect peach"
   ]
  },
  {
   "cell_type": "code",
   "execution_count": 65,
   "metadata": {},
   "outputs": [
    {
     "data": {
      "application/vnd.teradata.resultset": "[{\"COST\":\"12.80\",\"SALES\":\"32.00\",\"Sales_Center_ID\":\"3333\",\"UNITS\":\"5.0000\"},{\"COST\":\"3.89\",\"SALES\":\"7.97\",\"Sales_Center_ID\":\"5555\",\"UNITS\":\"1.0000\"},{\"COST\":\"5.20\",\"SALES\":\"18.75\",\"Sales_Center_ID\":\"6666\",\"UNITS\":\"1.0000\"},{\"COST\":\".00\",\"SALES\":\".00\",\"Sales_Center_ID\":\"7777\",\"UNITS\":\".0000\"},{\"COST\":\".00\",\"SALES\":\".00\",\"Sales_Center_ID\":\"9999\",\"UNITS\":\".0000\"},{\"COST\":\"2.65\",\"SALES\":\"8.00\",\"Sales_Center_ID\":\"1112\",\"UNITS\":\"1.0000\"},{\"COST\":\"10.68\",\"SALES\":\"39.42\",\"Sales_Center_ID\":\"1113\",\"UNITS\":\"5.0000\"},{\"COST\":\"15.84\",\"SALES\":\"35.58\",\"Sales_Center_ID\":\"1114\",\"UNITS\":\"5.0000\"},{\"COST\":\".00\",\"SALES\":\".00\",\"Sales_Center_ID\":\"1115\",\"UNITS\":\".0000\"},{\"COST\":\"2.69\",\"SALES\":\"17.18\",\"Sales_Center_ID\":\"1116\",\"UNITS\":\"1.0000\"},{\"COST\":\"3.01\",\"SALES\":\"9.50\",\"Sales_Center_ID\":\"1117\",\"UNITS\":\"1.0000\"},{\"COST\":\".00\",\"SALES\":\".00\",\"Sales_Center_ID\":\"1119\",\"UNITS\":\".0000\"},{\"COST\":\"13.63\",\"SALES\":\"29.00\",\"Sales_Center_ID\":\"2111\",\"UNITS\":\"4.0000\"},{\"COST\":\"57.98\",\"SALES\":\"55.00\",\"Sales_Center_ID\":\"3111\",\"UNITS\":\"21.0000\"},{\"COST\":\".00\",\"SALES\":\".00\",\"Sales_Center_ID\":\"1111\",\"UNITS\":\".0000\"},{\"COST\":\".00\",\"SALES\":\".00\",\"Sales_Center_ID\":\"2222\",\"UNITS\":\".0000\"},{\"COST\":\"77.42\",\"SALES\":\"43.78\",\"Sales_Center_ID\":\"3333\",\"UNITS\":\"10.0000\"},{\"COST\":\"238.20\",\"SALES\":\"65.73\",\"Sales_Center_ID\":\"4444\",\"UNITS\":\"70.0000\"},{\"COST\":\".00\",\"SALES\":\".00\",\"Sales_Center_ID\":\"5555\",\"UNITS\":\".0000\"},{\"COST\":\"4.51\",\"SALES\":\"7.79\",\"Sales_Center_ID\":\"6666\",\"UNITS\":\"1.0000\"},{\"COST\":\"6.79\",\"SALES\":\"27.10\",\"Sales_Center_ID\":\"1118\",\"UNITS\":\"4.0000\"},{\"COST\":\"5.36\",\"SALES\":\"10.60\",\"Sales_Center_ID\":\"8888\",\"UNITS\":\"1.0000\"},{\"COST\":\"9.50\",\"SALES\":\"20.85\",\"Sales_Center_ID\":\"4444\",\"UNITS\":\"1.0000\"},{\"COST\":\"9.50\",\"SALES\":\"18.75\",\"Sales_Center_ID\":\"2222\",\"UNITS\":\"1.0000\"},{\"COST\":\".00\",\"SALES\":\".00\",\"Sales_Center_ID\":\"1111\",\"UNITS\":\".0000\"}]\n",
      "text/html": [
       "<div class = \"td-resultset-table-div\" style = \"max-height: 557px; overflow-y: auto\"><style> table {border: 1px solid rgb(207, 207, 207) !important; border-collapse: collapse !important; margin-top: 1px !important;} th {border: 1px solid rgb(198,198,198) !important; border-collapse: collapse !important; padding: 2px 5px !important; font-size: 13px !important; min-width:150px !important; max-width: 150px !important; white-space: nowrap !important; overflow:hidden !important; text-overflow:ellipsis !important;} tr:nth-child(even) {background: rgba(243, 243, 243, 0.75) !important;} td {border: 1px solid rgb(207, 207, 207) !important; border-collapse: collapse !important; padding: 2px 5px !important; font-size: 13px !important; min-width:150px !important; max-width: 150px !important; white-space: nowrap !important; overflow:hidden !important; text-overflow:ellipsis !important;}</style><table><thead><tr style= \"background: #efefef;\"><th>Sales_Center_ID</th><th>UNITS</th><th>SALES</th><th>COST</th></tr></thead><tr><td>3333</td><td>5.0000</td><td>32.00</td><td>12.80</td></tr><tr><td>5555</td><td>1.0000</td><td>7.97</td><td>3.89</td></tr><tr><td>6666</td><td>1.0000</td><td>18.75</td><td>5.20</td></tr><tr><td>7777</td><td>.0000</td><td>.00</td><td>.00</td></tr><tr><td>9999</td><td>.0000</td><td>.00</td><td>.00</td></tr><tr><td>1112</td><td>1.0000</td><td>8.00</td><td>2.65</td></tr><tr><td>1113</td><td>5.0000</td><td>39.42</td><td>10.68</td></tr><tr><td>1114</td><td>5.0000</td><td>35.58</td><td>15.84</td></tr><tr><td>1115</td><td>.0000</td><td>.00</td><td>.00</td></tr><tr><td>1116</td><td>1.0000</td><td>17.18</td><td>2.69</td></tr><tr><td>1117</td><td>1.0000</td><td>9.50</td><td>3.01</td></tr><tr><td>1119</td><td>.0000</td><td>.00</td><td>.00</td></tr><tr><td>2111</td><td>4.0000</td><td>29.00</td><td>13.63</td></tr><tr><td>3111</td><td>21.0000</td><td>55.00</td><td>57.98</td></tr><tr><td>1111</td><td>.0000</td><td>.00</td><td>.00</td></tr><tr><td>2222</td><td>.0000</td><td>.00</td><td>.00</td></tr><tr><td>3333</td><td>10.0000</td><td>43.78</td><td>77.42</td></tr><tr><td>4444</td><td>70.0000</td><td>65.73</td><td>238.20</td></tr><tr><td>5555</td><td>.0000</td><td>.00</td><td>.00</td></tr><tr><td>6666</td><td>1.0000</td><td>7.79</td><td>4.51</td></tr><tr><td>1118</td><td>4.0000</td><td>27.10</td><td>6.79</td></tr><tr><td>8888</td><td>1.0000</td><td>10.60</td><td>5.36</td></tr><tr><td>4444</td><td>1.0000</td><td>20.85</td><td>9.50</td></tr><tr><td>2222</td><td>1.0000</td><td>18.75</td><td>9.50</td></tr><tr><td>1111</td><td>.0000</td><td>.00</td><td>.00</td></tr></table></div>"
      ]
     },
     "execution_count": 65,
     "metadata": {
      "application/vnd.teradata.resultset": "{\"resultSetID\":\"/home/jovyan/JupyterLabRoot/Teradata/Resultsets/2019.04.17_18.17.41.255_UTC\",\"historyID\":17,\"chunkID\":\"00001\",\"sessionid\":\"\",\"portnum\":\"\",\"dockermode\":\"docker\",\"totalRowCount\":25,\"rowLimit\":0,\"columnMetadata\":[{\"columnName\":\"Sales_Center_ID\",\"columnTypeName\":\"INTEGER\"},{\"columnNumber\":1,\"columnName\":\"UNITS\",\"columnTypeName\":\"DECIMAL\",\"length\":4,\"precision\":15,\"scale\":4},{\"columnNumber\":2,\"columnName\":\"SALES\",\"columnTypeName\":\"DECIMAL\",\"length\":2,\"precision\":15,\"scale\":2},{\"columnNumber\":3,\"columnName\":\"COST\",\"columnTypeName\":\"DECIMAL\",\"length\":2,\"precision\":15,\"scale\":2}]}"
     },
     "output_type": "execute_result"
    }
   ],
   "source": [
    "select top 25 * from guest.SalesDemo;"
   ]
  },
  {
   "cell_type": "markdown",
   "metadata": {},
   "source": [
    "### The result of SQL statements that do not return a result set is summarized in the output cell."
   ]
  },
  {
   "cell_type": "code",
   "execution_count": 66,
   "metadata": {},
   "outputs": [
    {
     "data": {
      "text/plain": [
       "Success: 1 rows affected"
      ]
     },
     "execution_count": 66,
     "metadata": {
      "application/vnd.teradata.resultset": ""
     },
     "output_type": "execute_result"
    }
   ],
   "source": [
    "update guest.SalesDemo set UNITS = '3' where Sales_Center_ID = '1115';"
   ]
  },
  {
   "cell_type": "markdown",
   "metadata": {},
   "source": [
    "### Errors are also shown in the output cell"
   ]
  },
  {
   "cell_type": "code",
   "execution_count": 27,
   "metadata": {},
   "outputs": [
    {
     "ename": "ERROR",
     "evalue": "No active connection",
     "output_type": "error",
     "traceback": [
      "No active connection"
     ]
    }
   ],
   "source": [
    "select * from NonExistentTable;"
   ]
  },
  {
   "cell_type": "markdown",
   "metadata": {},
   "source": [
    "### Cancelling a long running query\n",
    "#### Hitting the 'Interrupt the kernel' toolbar button will cancel the currently executing query."
   ]
  },
  {
   "cell_type": "code",
   "execution_count": 67,
   "metadata": {},
   "outputs": [
    {
     "ename": "ERROR",
     "evalue": "Request Canceled",
     "output_type": "error",
     "traceback": [
      "Request Canceled"
     ]
    }
   ],
   "source": [
    "select * from SSB.LINEORDER_10M_ROWS"
   ]
  },
  {
   "cell_type": "markdown",
   "metadata": {},
   "source": [
    "### Execute SQL on a specific connection (not necessarily the active connection) with the %%connect cell magic command\n",
    "#### Follow the %%connect command with SQL in the same cell"
   ]
  },
  {
   "cell_type": "code",
   "execution_count": 87,
   "metadata": {},
   "outputs": [
    {
     "name": "stdin",
     "output_type": "stream",
     "text": [
      "Password ···\n"
     ]
    },
    {
     "name": "stdout",
     "output_type": "stream",
     "text": [
      "Success: 'teradata-vantage' connection established\n"
     ]
    },
    {
     "data": {
      "application/vnd.teradata.resultset": "[{\"id\":\"1\",\"point1\":\"16.21\",\"point2\":\"9.07\",\"point3\":\"6.19\",\"point4\":\"20.93\",\"point5\":\"8.74\"},{\"id\":\"2\",\"point1\":\"18.09\",\"point2\":\"14.05\",\"point3\":\"10.86\",\"point4\":\"6.56\",\"point5\":\"11.35\"},{\"id\":\"7\",\"point1\":\"-7.17\",\"point2\":\"-7.89\",\"point3\":\"-9.07\",\"point4\":\"-8.26\",\"point5\":\"-11.86\"},{\"id\":\"12\",\"point1\":\"2.72\",\"point2\":\"2.08\",\"point3\":\"0.12\",\"point4\":\"-1.48\",\"point5\":\"1.58\"},{\"id\":\"13\",\"point1\":\"-3.7\",\"point2\":\"-0.1\",\"point3\":\"-1.91\",\"point4\":\"0.21\",\"point5\":\"1.12\"},{\"id\":\"11\",\"point1\":\"0.96\",\"point2\":\"1.18\",\"point3\":\"-0.35\",\"point4\":\"1.25\",\"point5\":\"-0.31\"},{\"id\":\"9\",\"point1\":\"-4.71\",\"point2\":\"-10\",\"point3\":\"-5.21\",\"point4\":\"-6.31\",\"point5\":\"-2.45\"},{\"id\":\"10\",\"point1\":\"2.13\",\"point2\":\"2.99\",\"point3\":\"-13.33\",\"point4\":\"-11.49\",\"point5\":\"-9.35\"},{\"id\":\"15\",\"point1\":\"2.74\",\"point2\":\"-0.05\",\"point3\":\"-1.87\",\"point4\":\"2.58\",\"point5\":\"-1.96\"},{\"id\":\"14\",\"point1\":\"-1.09\",\"point2\":\"-3.09\",\"point3\":\"1.58\",\"point4\":\"-0.77\",\"point5\":\"1.47\"},{\"id\":\"6\",\"point1\":\"-7.86\",\"point2\":\"-8.08\",\"point3\":\"-4.47\",\"point4\":\"-15.09\",\"point5\":\"-7.11\"},{\"id\":\"4\",\"point1\":\"13.85\",\"point2\":\"6.94\",\"point3\":\"17.68\",\"point4\":\"14.2\",\"point5\":\"20.96\"},{\"id\":\"8\",\"point1\":\"-7.87\",\"point2\":\"-6.286\",\"point3\":\"-4.21\",\"point4\":\"-10.03\",\"point5\":\"-14.25\"},{\"id\":\"3\",\"point1\":\"15.56\",\"point2\":\"16.61\",\"point3\":\"12.3\",\"point4\":\"17.11\",\"point5\":\"20.54\"},{\"id\":\"5\",\"point1\":\"20.19\",\"point2\":\"13.77\",\"point3\":\"-0.85\",\"point4\":\"16.94\",\"point5\":\"2.16\"}]\n",
      "text/html": [
       "<div class = \"td-resultset-table-div\" style = \"max-height: 357px; overflow-y: auto\"><style> table {border: 1px solid rgb(207, 207, 207) !important; border-collapse: collapse !important; margin-top: 1px !important;} th {border: 1px solid rgb(198,198,198) !important; border-collapse: collapse !important; padding: 2px 5px !important; font-size: 13px !important; min-width:150px !important; max-width: 150px !important; white-space: nowrap !important; overflow:hidden !important; text-overflow:ellipsis !important;} tr:nth-child(even) {background: rgba(243, 243, 243, 0.75) !important;} td {border: 1px solid rgb(207, 207, 207) !important; border-collapse: collapse !important; padding: 2px 5px !important; font-size: 13px !important; min-width:150px !important; max-width: 150px !important; white-space: nowrap !important; overflow:hidden !important; text-overflow:ellipsis !important;}</style><table><thead><tr style= \"background: #efefef;\"><th>id</th><th>point1</th><th>point2</th><th>point3</th><th>point4</th><th>point5</th></tr></thead><tr><td>1</td><td>16.21</td><td>9.07</td><td>6.19</td><td>20.93</td><td>8.74</td></tr><tr><td>2</td><td>18.09</td><td>14.05</td><td>10.86</td><td>6.56</td><td>11.35</td></tr><tr><td>7</td><td>-7.17</td><td>-7.89</td><td>-9.07</td><td>-8.26</td><td>-11.86</td></tr><tr><td>12</td><td>2.72</td><td>2.08</td><td>0.12</td><td>-1.48</td><td>1.58</td></tr><tr><td>13</td><td>-3.7</td><td>-0.1</td><td>-1.91</td><td>0.21</td><td>1.12</td></tr><tr><td>11</td><td>0.96</td><td>1.18</td><td>-0.35</td><td>1.25</td><td>-0.31</td></tr><tr><td>9</td><td>-4.71</td><td>-10</td><td>-5.21</td><td>-6.31</td><td>-2.45</td></tr><tr><td>10</td><td>2.13</td><td>2.99</td><td>-13.33</td><td>-11.49</td><td>-9.35</td></tr><tr><td>15</td><td>2.74</td><td>-0.05</td><td>-1.87</td><td>2.58</td><td>-1.96</td></tr><tr><td>14</td><td>-1.09</td><td>-3.09</td><td>1.58</td><td>-0.77</td><td>1.47</td></tr><tr><td>6</td><td>-7.86</td><td>-8.08</td><td>-4.47</td><td>-15.09</td><td>-7.11</td></tr><tr><td>4</td><td>13.85</td><td>6.94</td><td>17.68</td><td>14.2</td><td>20.96</td></tr><tr><td>8</td><td>-7.87</td><td>-6.286</td><td>-4.21</td><td>-10.03</td><td>-14.25</td></tr><tr><td>3</td><td>15.56</td><td>16.61</td><td>12.3</td><td>17.11</td><td>20.54</td></tr><tr><td>5</td><td>20.19</td><td>13.77</td><td>-0.85</td><td>16.94</td><td>2.16</td></tr></table></div>"
      ]
     },
     "execution_count": 87,
     "metadata": {
      "application/vnd.teradata.resultset": "{\"resultSetID\":\"/home/jovyan/JupyterLabRoot/Teradata/Resultsets/2019.04.17_20.19.42.633_UTC\",\"historyID\":38,\"chunkID\":\"00001\",\"sessionid\":\"\",\"portnum\":\"\",\"dockermode\":\"docker\",\"totalRowCount\":15,\"rowLimit\":0,\"columnMetadata\":[{\"columnName\":\"id\",\"columnTypeName\":\"INTEGER\"},{\"columnNumber\":1,\"columnName\":\"point1\",\"columnTypeName\":\"FLOAT\"},{\"columnNumber\":2,\"columnName\":\"point2\",\"columnTypeName\":\"FLOAT\"},{\"columnNumber\":3,\"columnName\":\"point3\",\"columnTypeName\":\"FLOAT\"},{\"columnNumber\":4,\"columnName\":\"point4\",\"columnTypeName\":\"FLOAT\"},{\"columnNumber\":5,\"columnName\":\"point5\",\"columnTypeName\":\"FLOAT\"}]}"
     },
     "output_type": "execute_result"
    }
   ],
   "source": [
    "%%connect teradata-vantage\n",
    "select top 25 * from alice.kmeanssample; "
   ]
  },
  {
   "cell_type": "markdown",
   "metadata": {},
   "source": [
    "#### The %%connect cell magic only specifies the connection to use for the SQL in the same cell; it will not change the active connection"
   ]
  },
  {
   "cell_type": "code",
   "execution_count": 88,
   "metadata": {},
   "outputs": [
    {
     "name": "stdout",
     "output_type": "stream",
     "text": [
      "*Connected:   NAME=peach, USER=dbc, HOST=peach1\n",
      "Connected:    NAME=teradata-vantage, USER=dbc, HOST=vantage1\n"
     ]
    }
   ],
   "source": [
    "%lsconnect"
   ]
  },
  {
   "cell_type": "markdown",
   "metadata": {},
   "source": [
    "***\n",
    "## History"
   ]
  },
  {
   "cell_type": "markdown",
   "metadata": {},
   "source": [
    "### List the history of SQL commands executed with the %history command"
   ]
  },
  {
   "cell_type": "code",
   "execution_count": 35,
   "metadata": {},
   "outputs": [
    {
     "name": "stdout",
     "output_type": "stream",
     "text": [
      "%history [limit[,start]]\n",
      "\tDisplay a list of previously executed commands.\n",
      "\tLimit is the number of history items to display. The default limit is 20. \n",
      "\tStart is the starting position to list. The default is the most recent items."
     ]
    }
   ],
   "source": [
    "%help history"
   ]
  },
  {
   "cell_type": "code",
   "execution_count": 71,
   "metadata": {},
   "outputs": [
    {
     "name": "stdout",
     "output_type": "stream",
     "text": [
      "HistID:         <ResultSetID>         [ConnID]         SQL\n",
      "    35: <2019.04.17_20.10.46.999_UTC> [peach] select top 25 * from dbc.databasesvx\n",
      "    34: <2019.04.17_20.10.44.297_UTC> [peach] select top 25 * from dbc.databasesv\n",
      "    33: <2019.04.17_20.10.41.865_UTC> [peach] select top 25 * from dbc.databases\n",
      "    32: <2019.04.17_20.10.35.460_UTC> [peach] select top 25 * from dbc.tablesvx\n",
      "    31: <2019.04.17_20.10.04.058_UTC> [peach] select top 25 * from dbc.columnsvx;\n",
      "    30: <2019.04.17_20.10.00.604_UTC> [peach] select top 25 * from dbc.columnsv;\n",
      "    29: <2019.04.17_20.09.57.232_UTC> [peach] select top 25 * from dbc.columns;\n",
      "    28: <2019.04.17_20.09.50.278_UTC> [peach] select top 25 * from dbc.tables;\n",
      "    27: <2019.04.17_20.09.47.569_UTC> [peach] select top 25 * from dbc.tablesv;\n",
      "    26: <2019.04.17_20.09.40.879_UTC> [peach] select top 25 * from dbc.dbcinfo;\n",
      "    25: <2019.04.17_20.09.20.979_UTC> [peach] select top 25 * from taademo.fact_loan;\n",
      "    24:  2019-04-17_20:09:13.584_UTC  [peach] select top 25 * from taademo.fact_loan|\n",
      "    23:  2019-04-17_20:08:43.503_UTC  [peach] select top 25 * from taademo.TDAT_Brand;|\n",
      "    22:  2019-04-17_20:08:29.580_UTC  [peach] select f.sales, f.sales_center_id, s.sales_center_name from salesdemo f\n",
      "  inner join salescenter s on s.Sales_Center_id = f.Sales_Center_id\n",
      "    21:  2019-04-17_20:08:24.818_UTC  [peach] select top 25 * from taademo.TDAT_Brand;|\n",
      "    20:  2019-04-17_20:08:19.738_UTC  [peach] select top 25 * from taademo.TDAT_Brand;|\n",
      "    19:  2019-04-17_18:19:50.276_UTC  [peach] select * from SSB.LINEORDER_10M_ROWS\n",
      "    18:  2019-04-17_18:19:17.774_UTC  [peach] update guest.SalesDemo set UNITS = '3' where Sales_Center_ID = '1115';\n",
      "    17: <2019.04.17_18.17.41.255_UTC> [peach] select top 25 * from guest.SalesDemo;\n",
      "    16: <2019.04.17_18.15.46.470_UTC> [peach] select top 25 * from guest.SalesCenter;\n"
     ]
    }
   ],
   "source": [
    "%history"
   ]
  },
  {
   "cell_type": "markdown",
   "metadata": {},
   "source": [
    "- **HistID** column is the sequential id of each history item\n",
    "- **ResultSetID** column is the id of the result set produced by the SQL in this history item<br>\n",
    "  If the SQL produced a result set, the result set id will be enclosed in <><br>\n",
    "  If no result set was produced (error, or SQL that does not return results) the result set id is not enclosed in <> and represents just a timestamp\n",
    "- **ConnID** column is the name of the connection this SQL was executed on\n",
    "- **SQL** column is the SQL that was executed"
   ]
  },
  {
   "cell_type": "markdown",
   "metadata": {},
   "source": [
    "### By default the most recent 20 items will be displayed\n",
    "#### The **limit** can be specified to change the number of items displayed."
   ]
  },
  {
   "cell_type": "code",
   "execution_count": 72,
   "metadata": {},
   "outputs": [
    {
     "name": "stdout",
     "output_type": "stream",
     "text": [
      "HistID:         <ResultSetID>         [ConnID]         SQL\n",
      "    35: <2019.04.17_20.10.46.999_UTC> [peach] select top 25 * from dbc.databasesvx\n",
      "    34: <2019.04.17_20.10.44.297_UTC> [peach] select top 25 * from dbc.databasesv\n",
      "    33: <2019.04.17_20.10.41.865_UTC> [peach] select top 25 * from dbc.databases\n",
      "    32: <2019.04.17_20.10.35.460_UTC> [peach] select top 25 * from dbc.tablesvx\n",
      "    31: <2019.04.17_20.10.04.058_UTC> [peach] select top 25 * from dbc.columnsvx;\n"
     ]
    }
   ],
   "source": [
    "%history 5"
   ]
  },
  {
   "cell_type": "markdown",
   "metadata": {},
   "source": [
    "#### **Start** can be specified to change the history id to display from."
   ]
  },
  {
   "cell_type": "code",
   "execution_count": 76,
   "metadata": {},
   "outputs": [
    {
     "name": "stdout",
     "output_type": "stream",
     "text": [
      "HistID:         <ResultSetID>         [ConnID]         SQL\n",
      "    29: <2019.04.17_20.09.57.232_UTC> [peach] select top 25 * from dbc.columns;\n",
      "    28: <2019.04.17_20.09.50.278_UTC> [peach] select top 25 * from dbc.tables;\n",
      "    27: <2019.04.17_20.09.47.569_UTC> [peach] select top 25 * from dbc.tablesv;\n",
      "    26: <2019.04.17_20.09.40.879_UTC> [peach] select top 25 * from dbc.dbcinfo;\n",
      "    25: <2019.04.17_20.09.20.979_UTC> [peach] select top 25 * from taademo.fact_loan;\n"
     ]
    }
   ],
   "source": [
    "%history 5,25"
   ]
  },
  {
   "cell_type": "markdown",
   "metadata": {},
   "source": [
    "***\n",
    "## Visualization"
   ]
  },
  {
   "cell_type": "markdown",
   "metadata": {},
   "source": [
    "### The %chart command is used to produce a graphical visualization of SQL query result sets\n",
    "#### The %chart command produces and displays a __[Vega-lite](https://vega.github.io/vega-lite/)__ specification using the specified parameters and a result set as input"
   ]
  },
  {
   "cell_type": "code",
   "execution_count": 39,
   "metadata": {},
   "outputs": [
    {
     "name": "stdout",
     "output_type": "stream",
     "text": [
      "%chart x=<XColumnName>, y=<YColumnName>,\n",
      "\t[title=<ChartTitle>,] [id=<ResultSetID>|<HistoryID>,] [part=<PartNum>]\n",
      "\t[labelx=<XLabel>,] [labely=<YLabel>,]\n",
      "\t[gridx=true|false,] [gridy=true|false,]\n",
      "\t[typex=q|n|o|t,] [typey=q|n|o|t,]\n",
      "\t[mark=area|bar|circle|line|point|rect|rule|square|text|tick,]\n",
      "\tDisplay a Vega-Lite visualization of the most recently accessed or specified result set.\n",
      "\t\ttypex and typey values: q=quantitative n=nominal o=ordinal t=temporal (defaults based on column type:\n",
      "\t\tnumeric types -> quantitative, time times -> temporal, other types -> nominal)\n",
      "\t\t<ResultSetID> is the timestamp/directory name of the result set.\n",
      "\t\t<HistoryID> is the id of the history item (see %history command).\n",
      "\t\tIf the id is not specified, the most recently accessed result set is displayed."
     ]
    }
   ],
   "source": [
    "%help chart"
   ]
  },
  {
   "cell_type": "markdown",
   "metadata": {},
   "source": [
    "- <b>x</b> and **y** - represent the x and y axes of the graph. These values must be specified.\n",
    "- **title** - the title displayed above the chart (optional)\n",
    "- **id** - the history id or result set id to use as input (most recently accessed if not specified)\n",
    "- **labelx** - the label of the x axis (default is the x column name)\n",
    "- **labely** - the label of the y axis (default is the y column name)\n",
    "- **gridx** - whether to show grid lines for the x axis (default is true)\n",
    "- **gridy** - whether to show grid lines for the y axis (default is true)\n",
    "- **mark** - the type of chart to show (bar, line, area, point, rect, square, text, tick) (default is bar)\n",
    "- **typex** and **typey** - the data type of the x and y axes __[(see the vega-lite specification)](https://vega.github.io/vega-lite/docs/type.html)__\n",
    "    - q=quantitative - represents quatity values - generally numeric values\n",
    "    - n=nominal - categorical data values based only on their names or categories. E.g., gender, nationality, music genre.\n",
    "    - o=ordinal - represents ranked order (1st, 2nd, …) by which the data can be sorted. There is no notion of relative degree of difference between values\n",
    "    - t=temporal - time and date/time values\n",
    "    - default types are assigned based on the column data types\n",
    "        - numeric types -> quantitative\n",
    "        - time times -> temporal\n",
    "        - other types -> nominal\n"
   ]
  },
  {
   "cell_type": "markdown",
   "metadata": {},
   "source": [
    "### Execute a query, this is just an example"
   ]
  },
  {
   "cell_type": "code",
   "execution_count": null,
   "metadata": {},
   "outputs": [],
   "source": [
    "select top 25 * from alice.kmeanssample;"
   ]
  },
  {
   "cell_type": "markdown",
   "metadata": {},
   "source": [
    "#### By default %chart uses the most recently accessed result set as input.\n",
    "#### In this case the result set in the cell above will be used.\n",
    "Note that all fields in this table are defined as text fields, so **typey=q** is required to cause a column to be interpreted as quantitative (numeric).<br>"
   ]
  },
  {
   "cell_type": "code",
   "execution_count": 41,
   "metadata": {},
   "outputs": [
    {
     "data": {
      "application/vnd.vegalite.v2+json": {
       "$schema": "https://vega.github.io/schema/vega-lite/v2.json",
       "data": {
        "values": [
         {
          "id": "1",
          "point1": "16.21",
          "point2": "9.07",
          "point3": "6.19",
          "point4": "20.93",
          "point5": "8.74"
         },
         {
          "id": "2",
          "point1": "18.09",
          "point2": "14.05",
          "point3": "10.86",
          "point4": "6.56",
          "point5": "11.35"
         },
         {
          "id": "7",
          "point1": "-7.17",
          "point2": "-7.89",
          "point3": "-9.07",
          "point4": "-8.26",
          "point5": "-11.86"
         },
         {
          "id": "12",
          "point1": "2.72",
          "point2": "2.08",
          "point3": "0.12",
          "point4": "-1.48",
          "point5": "1.58"
         },
         {
          "id": "13",
          "point1": "-3.7",
          "point2": "-0.1",
          "point3": "-1.91",
          "point4": "0.21",
          "point5": "1.12"
         },
         {
          "id": "11",
          "point1": "0.96",
          "point2": "1.18",
          "point3": "-0.35",
          "point4": "1.25",
          "point5": "-0.31"
         },
         {
          "id": "9",
          "point1": "-4.71",
          "point2": "-10",
          "point3": "-5.21",
          "point4": "-6.31",
          "point5": "-2.45"
         },
         {
          "id": "10",
          "point1": "2.13",
          "point2": "2.99",
          "point3": "-13.33",
          "point4": "-11.49",
          "point5": "-9.35"
         },
         {
          "id": "15",
          "point1": "2.74",
          "point2": "-0.05",
          "point3": "-1.87",
          "point4": "2.58",
          "point5": "-1.96"
         },
         {
          "id": "14",
          "point1": "-1.09",
          "point2": "-3.09",
          "point3": "1.58",
          "point4": "-0.77",
          "point5": "1.47"
         },
         {
          "id": "6",
          "point1": "-7.86",
          "point2": "-8.08",
          "point3": "-4.47",
          "point4": "-15.09",
          "point5": "-7.11"
         },
         {
          "id": "4",
          "point1": "13.85",
          "point2": "6.94",
          "point3": "17.68",
          "point4": "14.2",
          "point5": "20.96"
         },
         {
          "id": "8",
          "point1": "-7.87",
          "point2": "-6.286",
          "point3": "-4.21",
          "point4": "-10.03",
          "point5": "-14.25"
         },
         {
          "id": "3",
          "point1": "15.56",
          "point2": "16.61",
          "point3": "12.3",
          "point4": "17.11",
          "point5": "20.54"
         },
         {
          "id": "5",
          "point1": "20.19",
          "point2": "13.77",
          "point3": "-0.85",
          "point4": "16.94",
          "point5": "2.16"
         }
        ]
       },
       "encoding": {
        "x": {
         "axis": {
          "grid": true,
          "title": "id"
         },
         "field": "id",
         "type": "quantitative"
        },
        "y": {
         "axis": {
          "grid": true,
          "title": "point1"
         },
         "field": "point1",
         "type": "quantitative"
        }
       },
       "mark": "bar",
       "title": "<no value>"
      },
      "image/png": "[encoded data removed]"
     },
     "execution_count": 41,
     "metadata": {
      "application/vnd.teradata.resultset": ""
     },
     "output_type": "execute_result"
    }
   ],
   "source": [
    "%chart x=id, y=point1, typey=q"
   ]
  },
  {
   "cell_type": "markdown",
   "metadata": {},
   "source": [
    "#### The type of chart can be changed by specifying the **mark** parameter. \n",
    "By default, the type of chart is **bar** chart. To change the above chart to a **point** chart, add **mark=point** to the %chart command."
   ]
  },
  {
   "cell_type": "code",
   "execution_count": 42,
   "metadata": {},
   "outputs": [
    {
     "data": {
      "application/vnd.vegalite.v2+json": {
       "$schema": "https://vega.github.io/schema/vega-lite/v2.json",
       "data": {
        "values": [
         {
          "id": "1",
          "point1": "16.21",
          "point2": "9.07",
          "point3": "6.19",
          "point4": "20.93",
          "point5": "8.74"
         },
         {
          "id": "2",
          "point1": "18.09",
          "point2": "14.05",
          "point3": "10.86",
          "point4": "6.56",
          "point5": "11.35"
         },
         {
          "id": "7",
          "point1": "-7.17",
          "point2": "-7.89",
          "point3": "-9.07",
          "point4": "-8.26",
          "point5": "-11.86"
         },
         {
          "id": "12",
          "point1": "2.72",
          "point2": "2.08",
          "point3": "0.12",
          "point4": "-1.48",
          "point5": "1.58"
         },
         {
          "id": "13",
          "point1": "-3.7",
          "point2": "-0.1",
          "point3": "-1.91",
          "point4": "0.21",
          "point5": "1.12"
         },
         {
          "id": "11",
          "point1": "0.96",
          "point2": "1.18",
          "point3": "-0.35",
          "point4": "1.25",
          "point5": "-0.31"
         },
         {
          "id": "9",
          "point1": "-4.71",
          "point2": "-10",
          "point3": "-5.21",
          "point4": "-6.31",
          "point5": "-2.45"
         },
         {
          "id": "10",
          "point1": "2.13",
          "point2": "2.99",
          "point3": "-13.33",
          "point4": "-11.49",
          "point5": "-9.35"
         },
         {
          "id": "15",
          "point1": "2.74",
          "point2": "-0.05",
          "point3": "-1.87",
          "point4": "2.58",
          "point5": "-1.96"
         },
         {
          "id": "14",
          "point1": "-1.09",
          "point2": "-3.09",
          "point3": "1.58",
          "point4": "-0.77",
          "point5": "1.47"
         },
         {
          "id": "6",
          "point1": "-7.86",
          "point2": "-8.08",
          "point3": "-4.47",
          "point4": "-15.09",
          "point5": "-7.11"
         },
         {
          "id": "4",
          "point1": "13.85",
          "point2": "6.94",
          "point3": "17.68",
          "point4": "14.2",
          "point5": "20.96"
         },
         {
          "id": "8",
          "point1": "-7.87",
          "point2": "-6.286",
          "point3": "-4.21",
          "point4": "-10.03",
          "point5": "-14.25"
         },
         {
          "id": "3",
          "point1": "15.56",
          "point2": "16.61",
          "point3": "12.3",
          "point4": "17.11",
          "point5": "20.54"
         },
         {
          "id": "5",
          "point1": "20.19",
          "point2": "13.77",
          "point3": "-0.85",
          "point4": "16.94",
          "point5": "2.16"
         }
        ]
       },
       "encoding": {
        "x": {
         "axis": {
          "grid": true,
          "title": "id"
         },
         "field": "id",
         "type": "quantitative"
        },
        "y": {
         "axis": {
          "grid": true,
          "title": "point1"
         },
         "field": "point1",
         "type": "quantitative"
        }
       },
       "mark": "point",
       "title": "<no value>"
      },
      "image/png": "[encoded data removed]"
     },
     "execution_count": 42,
     "metadata": {
      "application/vnd.teradata.resultset": ""
     },
     "output_type": "execute_result"
    }
   ],
   "source": [
    "%chart x=id, y=point1, typey=q, mark=point"
   ]
  },
  {
   "cell_type": "markdown",
   "metadata": {},
   "source": [
    "### Visualizing other result sets\n",
    "#### The %chart command can also be used to visualized an older result set by specifying the **id** parameter as a **history id** or a **result set id**"
   ]
  },
  {
   "cell_type": "markdown",
   "metadata": {},
   "source": [
    "#### **history id** is a numeric value"
   ]
  },
  {
   "cell_type": "code",
   "execution_count": 43,
   "metadata": {},
   "outputs": [
    {
     "data": {
      "application/vnd.vegalite.v2+json": {
       "$schema": "https://vega.github.io/schema/vega-lite/v2.json",
       "data": {
        "values": [
         {
          "id": "1",
          "point1": "16.21",
          "point2": "9.07",
          "point3": "6.19",
          "point4": "20.93",
          "point5": "8.74"
         },
         {
          "id": "2",
          "point1": "18.09",
          "point2": "14.05",
          "point3": "10.86",
          "point4": "6.56",
          "point5": "11.35"
         },
         {
          "id": "7",
          "point1": "-7.17",
          "point2": "-7.89",
          "point3": "-9.07",
          "point4": "-8.26",
          "point5": "-11.86"
         },
         {
          "id": "12",
          "point1": "2.72",
          "point2": "2.08",
          "point3": "0.12",
          "point4": "-1.48",
          "point5": "1.58"
         },
         {
          "id": "13",
          "point1": "-3.7",
          "point2": "-0.1",
          "point3": "-1.91",
          "point4": "0.21",
          "point5": "1.12"
         },
         {
          "id": "11",
          "point1": "0.96",
          "point2": "1.18",
          "point3": "-0.35",
          "point4": "1.25",
          "point5": "-0.31"
         },
         {
          "id": "9",
          "point1": "-4.71",
          "point2": "-10",
          "point3": "-5.21",
          "point4": "-6.31",
          "point5": "-2.45"
         },
         {
          "id": "10",
          "point1": "2.13",
          "point2": "2.99",
          "point3": "-13.33",
          "point4": "-11.49",
          "point5": "-9.35"
         },
         {
          "id": "15",
          "point1": "2.74",
          "point2": "-0.05",
          "point3": "-1.87",
          "point4": "2.58",
          "point5": "-1.96"
         },
         {
          "id": "14",
          "point1": "-1.09",
          "point2": "-3.09",
          "point3": "1.58",
          "point4": "-0.77",
          "point5": "1.47"
         },
         {
          "id": "6",
          "point1": "-7.86",
          "point2": "-8.08",
          "point3": "-4.47",
          "point4": "-15.09",
          "point5": "-7.11"
         },
         {
          "id": "4",
          "point1": "13.85",
          "point2": "6.94",
          "point3": "17.68",
          "point4": "14.2",
          "point5": "20.96"
         },
         {
          "id": "8",
          "point1": "-7.87",
          "point2": "-6.286",
          "point3": "-4.21",
          "point4": "-10.03",
          "point5": "-14.25"
         },
         {
          "id": "3",
          "point1": "15.56",
          "point2": "16.61",
          "point3": "12.3",
          "point4": "17.11",
          "point5": "20.54"
         },
         {
          "id": "5",
          "point1": "20.19",
          "point2": "13.77",
          "point3": "-0.85",
          "point4": "16.94",
          "point5": "2.16"
         }
        ]
       },
       "encoding": {
        "x": {
         "axis": {
          "grid": true,
          "title": "id"
         },
         "field": "id",
         "type": "quantitative"
        },
        "y": {
         "axis": {
          "grid": true,
          "title": "point1"
         },
         "field": "point1",
         "type": "quantitative"
        }
       },
       "mark": "bar",
       "title": "<no value>"
      },
      "image/png": "[encoded data removed]"
     },
     "execution_count": 43,
     "metadata": {
      "application/vnd.teradata.resultset": ""
     },
     "output_type": "execute_result"
    }
   ],
   "source": [
    "%chart x=id, y=point1, typey=q, id=8"
   ]
  },
  {
   "cell_type": "markdown",
   "metadata": {},
   "source": [
    "***\n",
    "## Display previous result set with the %table command\n",
    "#### Like the %chart command, the %table command can be used to show a previous result set based on **history id** or **result set id**"
   ]
  },
  {
   "cell_type": "code",
   "execution_count": 91,
   "metadata": {},
   "outputs": [
    {
     "name": "stdout",
     "output_type": "stream",
     "text": [
      "HistID:         <ResultSetID>         [ConnID]         SQL\n",
      "     9:  2019-04-17_17:50:27.157_UTC  [test] Database guest\n",
      "     8: <2019.04.17_04.23.16.858_UTC> [teradata-vantage] select top 25 * from alice.kmeanssample; \n",
      "     7:  2019-04-17_04:21:27.128_UTC  [teradata-vantage] select top 25 * from taademo.TDAT_Brand; \n",
      "     6:  2019-04-17_04:20:54.849_UTC  [peach] update taademo.TDAT_Brand set Brand_Category_ID = 'AA' where Brand_ID = '00223';\n",
      "     5:  2019-04-17_04:20:33.834_UTC  [peach] update taademo.TDAT_Brand set Brand_Catogory_ID = 'AA' where Brand_ID = '00223';\n",
      "     4: <2019.04.17_04.18.10.207_UTC> [peach] select top 25 * from taademo.TDAT_Brand;\n",
      "     3: <2019.04.17_04.17.24.289_UTC> [peach] select top 25 * from taademo.TDAT_Brand;\n"
     ]
    }
   ],
   "source": [
    "%history 7,3"
   ]
  },
  {
   "cell_type": "code",
   "execution_count": 93,
   "metadata": {},
   "outputs": [
    {
     "data": {
      "application/vnd.teradata.resultset": "[{\"id\":\"1\",\"point1\":\"16.21\",\"point2\":\"9.07\",\"point3\":\"6.19\",\"point4\":\"20.93\",\"point5\":\"8.74\"},{\"id\":\"2\",\"point1\":\"18.09\",\"point2\":\"14.05\",\"point3\":\"10.86\",\"point4\":\"6.56\",\"point5\":\"11.35\"},{\"id\":\"7\",\"point1\":\"-7.17\",\"point2\":\"-7.89\",\"point3\":\"-9.07\",\"point4\":\"-8.26\",\"point5\":\"-11.86\"},{\"id\":\"12\",\"point1\":\"2.72\",\"point2\":\"2.08\",\"point3\":\"0.12\",\"point4\":\"-1.48\",\"point5\":\"1.58\"},{\"id\":\"13\",\"point1\":\"-3.7\",\"point2\":\"-0.1\",\"point3\":\"-1.91\",\"point4\":\"0.21\",\"point5\":\"1.12\"},{\"id\":\"11\",\"point1\":\"0.96\",\"point2\":\"1.18\",\"point3\":\"-0.35\",\"point4\":\"1.25\",\"point5\":\"-0.31\"},{\"id\":\"9\",\"point1\":\"-4.71\",\"point2\":\"-10\",\"point3\":\"-5.21\",\"point4\":\"-6.31\",\"point5\":\"-2.45\"},{\"id\":\"10\",\"point1\":\"2.13\",\"point2\":\"2.99\",\"point3\":\"-13.33\",\"point4\":\"-11.49\",\"point5\":\"-9.35\"},{\"id\":\"15\",\"point1\":\"2.74\",\"point2\":\"-0.05\",\"point3\":\"-1.87\",\"point4\":\"2.58\",\"point5\":\"-1.96\"},{\"id\":\"14\",\"point1\":\"-1.09\",\"point2\":\"-3.09\",\"point3\":\"1.58\",\"point4\":\"-0.77\",\"point5\":\"1.47\"},{\"id\":\"6\",\"point1\":\"-7.86\",\"point2\":\"-8.08\",\"point3\":\"-4.47\",\"point4\":\"-15.09\",\"point5\":\"-7.11\"},{\"id\":\"4\",\"point1\":\"13.85\",\"point2\":\"6.94\",\"point3\":\"17.68\",\"point4\":\"14.2\",\"point5\":\"20.96\"},{\"id\":\"8\",\"point1\":\"-7.87\",\"point2\":\"-6.286\",\"point3\":\"-4.21\",\"point4\":\"-10.03\",\"point5\":\"-14.25\"},{\"id\":\"3\",\"point1\":\"15.56\",\"point2\":\"16.61\",\"point3\":\"12.3\",\"point4\":\"17.11\",\"point5\":\"20.54\"},{\"id\":\"5\",\"point1\":\"20.19\",\"point2\":\"13.77\",\"point3\":\"-0.85\",\"point4\":\"16.94\",\"point5\":\"2.16\"}]\n",
      "text/html": [
       "<div class = \"td-resultset-table-div\" style = \"max-height: 357px; overflow-y: auto\"><style> table {border: 1px solid rgb(207, 207, 207) !important; border-collapse: collapse !important; margin-top: 1px !important;} th {border: 1px solid rgb(198,198,198) !important; border-collapse: collapse !important; padding: 2px 5px !important; font-size: 13px !important; min-width:150px !important; max-width: 150px !important; white-space: nowrap !important; overflow:hidden !important; text-overflow:ellipsis !important;} tr:nth-child(even) {background: rgba(243, 243, 243, 0.75) !important;} td {border: 1px solid rgb(207, 207, 207) !important; border-collapse: collapse !important; padding: 2px 5px !important; font-size: 13px !important; min-width:150px !important; max-width: 150px !important; white-space: nowrap !important; overflow:hidden !important; text-overflow:ellipsis !important;}</style><table><thead><tr style= \"background: #efefef;\"><th>id</th><th>point1</th><th>point2</th><th>point3</th><th>point4</th><th>point5</th></tr></thead><tr><td>1</td><td>16.21</td><td>9.07</td><td>6.19</td><td>20.93</td><td>8.74</td></tr><tr><td>2</td><td>18.09</td><td>14.05</td><td>10.86</td><td>6.56</td><td>11.35</td></tr><tr><td>7</td><td>-7.17</td><td>-7.89</td><td>-9.07</td><td>-8.26</td><td>-11.86</td></tr><tr><td>12</td><td>2.72</td><td>2.08</td><td>0.12</td><td>-1.48</td><td>1.58</td></tr><tr><td>13</td><td>-3.7</td><td>-0.1</td><td>-1.91</td><td>0.21</td><td>1.12</td></tr><tr><td>11</td><td>0.96</td><td>1.18</td><td>-0.35</td><td>1.25</td><td>-0.31</td></tr><tr><td>9</td><td>-4.71</td><td>-10</td><td>-5.21</td><td>-6.31</td><td>-2.45</td></tr><tr><td>10</td><td>2.13</td><td>2.99</td><td>-13.33</td><td>-11.49</td><td>-9.35</td></tr><tr><td>15</td><td>2.74</td><td>-0.05</td><td>-1.87</td><td>2.58</td><td>-1.96</td></tr><tr><td>14</td><td>-1.09</td><td>-3.09</td><td>1.58</td><td>-0.77</td><td>1.47</td></tr><tr><td>6</td><td>-7.86</td><td>-8.08</td><td>-4.47</td><td>-15.09</td><td>-7.11</td></tr><tr><td>4</td><td>13.85</td><td>6.94</td><td>17.68</td><td>14.2</td><td>20.96</td></tr><tr><td>8</td><td>-7.87</td><td>-6.286</td><td>-4.21</td><td>-10.03</td><td>-14.25</td></tr><tr><td>3</td><td>15.56</td><td>16.61</td><td>12.3</td><td>17.11</td><td>20.54</td></tr><tr><td>5</td><td>20.19</td><td>13.77</td><td>-0.85</td><td>16.94</td><td>2.16</td></tr></table></div>"
      ]
     },
     "execution_count": 93,
     "metadata": {
      "application/vnd.teradata.resultset": "{\"rowCount\":15,\"dbRowCount\":15,\"chunkCount\":1,\"chunkID\":\"00001\",\"historyID\":8,\"resultSetID\":\"/home/jovyan/JupyterLabRoot/Teradata/Resultsets/2019.04.17_04.23.16.858_UTC\",\"columnMetadata\":[{\"columnName\":\"id\",\"columnTypeName\":\"INTEGER\"},{\"columnNumber\":1,\"columnName\":\"point1\",\"columnTypeName\":\"FLOAT\"},{\"columnNumber\":2,\"columnName\":\"point2\",\"columnTypeName\":\"FLOAT\"},{\"columnNumber\":3,\"columnName\":\"point3\",\"columnTypeName\":\"FLOAT\"},{\"columnNumber\":4,\"columnName\":\"point4\",\"columnTypeName\":\"FLOAT\"},{\"columnNumber\":5,\"columnName\":\"point5\",\"columnTypeName\":\"FLOAT\"}]}"
     },
     "output_type": "execute_result"
    }
   ],
   "source": [
    "%table 8"
   ]
  },
  {
   "cell_type": "markdown",
   "metadata": {},
   "source": [
    "***\n",
    "## Sharing Result Sets\n",
    "#### Teradata result sets can easily be used in another type of notebook (e.g. Python or R)\n",
    "Result sets are stored under the Teradata/ResultSets directory that is created in the JupterLab working directory (the directory in which 'juptyer lab' command is executed).\n",
    "Under the Teradata/ResultSets directory is a set of directories named with a timestamp (e.g. 2019.04.17_13.37.30.129_PDT). Each of these directories contains a single result set. Within a result set directory are two types of JSON files. The file named 00000.json is the result set metadata. It defines the data types of each column in the result set as well as some general information. The other files are named 00001.json, 00002.json, etc. These are result set chunk files. Each of these files contains part of the result set data. Only large result sets will be split into multiple parts; many will be contained in a single 00001.json file.<br><br>\n",
    "These chunk files contain a JSON formatted array of JSON objects (name-value pair lists).<br>\n",
    "For example:<br>\n",
    "```\n",
    "[\n",
    "  {\n",
    "    \"Area_Name\": \"NEWJERSEY\",\n",
    "    \"Area_id\": \"090000077\",\n",
    "    \"Country_cd\": \"USA\",\n",
    "    \"Division_id\": \"080000075\"\n",
    "  },\n",
    "  {\n",
    "    \"Area_Name\": \"PANHANDLEAREA\",\n",
    "    \"Area_id\": \"090000043\",\n",
    "    \"Country_cd\": \"USA\",\n",
    "    \"Division_id\": \"032226524\"\n",
    "  },\n",
    "  {\n",
    "    \"Area_Name\": \"TENESSEEAREA\",\n",
    "    \"Area_id\": \"090000062\",\n",
    "    \"Country_cd\": \"USA\",\n",
    "    \"Division_id\": \"039461986\"\n",
    "  }\n",
    "]```\n",
    "\n",
    "#### The easiest way to use a Teradata result set is to click the \"Copy Result Set Path\" button at the top of each result set table.\n",
    "\n",
    "The \"Copy Result Set Path\" button will copy the displayed result set path to the clipboard. This value can then be pasted into a cell of another notebook to load the result set into that notebook.<br><br>To load a result set from a table into a Python Pandas dataframe,\n",
    "\n",
    "1. run a SQL query or use the %table command\n",
    "1. click the \"Copy Result Set Path\" button above the displayed table\n",
    "1. paste the result set path into a Python notebook using the command **pd.read_json(\"<ResultSetPath>\")**<br>\n",
    "   for example:<br><br>\n",
    "```\n",
    "import pandas as pd\n",
    "df = pd.read_json(\"/root/JupyterLabHome/TeradataResultsets/2018.04.25_13.37.30.129_PDT/00001.json\")\n",
    "df\n",
    "```"
   ]
  },
  {
   "cell_type": "markdown",
   "metadata": {},
   "source": [
    "***\n",
    "# Teradata SQL Syntax coloring\n",
    "<ul>\n",
    "<li>Includes Keywords, Functions, UnreservedKeywords, BuiltInFunctions</li>\n",
    "</ul>"
   ]
  },
  {
   "cell_type": "code",
   "execution_count": null,
   "metadata": {},
   "outputs": [],
   "source": [
    "alter and date timestamp tinyblob begin teradata\n",
    "--dbc\n",
    "/*\n",
    "dbc\n",
    "*/\n",
    "\n",
    "SELECT * FROm attribtion (\n",
    "    \n",
    " ON యూనికోడ  AS INPUT  PARTITION BY 用户�?? OrDER BY time_stamp\n",
    " ON conversion_event_table AS convOFersion DIMENSION \n",
    " ON optional_event_table AS optional DIMENSION \n",
    " ON आदर�?श  AS model1 DIMENSION\n",
    " ON model2_table_fun2 AS model2 DIMENSION\n",
    " USING \n",
    " EVENT_COLUMN_NAOOME('ঘটনা')\n",
    " TIMESTAMP_COLUMN_NAME('time_stamp') \n",
    " WINDOW('rows:10&seconds:20') \n",
    ")ORDER By 用户�??, time_stamp;\n",
    "\n",
    "select ARRAY_EQ ACCORDING && || + - / * $ % ^ & & "
   ]
  },
  {
   "cell_type": "markdown",
   "metadata": {},
   "source": [
    "***\n",
    "# Teradata Syntax Checking\n",
    "<ul>\n",
    "<li>Provides Syntax Checking to validate sql.  Type shift+Tab to run syntax checking on cell contents.</li>\n",
    "</ul>"
   ]
  },
  {
   "cell_type": "markdown",
   "metadata": {},
   "source": [
    "***\n",
    "# Content Assist\n",
    "<ul>\n",
    "<li>Provide Data Dictionary objects and Parser results</li>\n",
    "<li>Colored types are provided for easy distinction</li>\n",
    "<li>Type Tab key within cell to launch content assist</li>\n",
    "</ul>"
   ]
  },
  {
   "cell_type": "markdown",
   "metadata": {},
   "source": [
    "***\n",
    "## Displaying Python and R Version Information\n",
    "The <b>%pyinfo</b> and <b>%rinfo</b> commands will display information about the version of Python and R and the addtional modules that are installed on the actively connected <b>Teradata Vantage</b> system. If the module parameter is specified for either of the commands, the list of modules will show only the installed modules whose names start with the parameter value. The commands will only be successful if the actively connected <b>Teradata Vantage</b> system has R or Python installed."
   ]
  },
  {
   "cell_type": "code",
   "execution_count": 46,
   "metadata": {},
   "outputs": [
    {
     "name": "stdout",
     "output_type": "stream",
     "text": [
      "Success: 'teradata-vantage' connection established\n"
     ]
    }
   ],
   "source": [
    "%connect teradata-vantage"
   ]
  },
  {
   "cell_type": "code",
   "execution_count": null,
   "metadata": {},
   "outputs": [],
   "source": [
    "%rinfo"
   ]
  },
  {
   "cell_type": "code",
   "execution_count": null,
   "metadata": {},
   "outputs": [],
   "source": [
    "%pyinfo"
   ]
  },
  {
   "cell_type": "markdown",
   "metadata": {},
   "source": [
    "<h4> Not done yet? Refer to the GettingStartedDemo notebook for a live example using the Teradata SQL notebook.</h4>"
   ]
  },
  {
   "cell_type": "markdown",
   "metadata": {},
   "source": [
    "Copyright 2018-2019 Teradata. All rights reserved."
   ]
  }
 ],
 "metadata": {
  "kernelspec": {
   "display_name": "Teradata SQL",
   "language": "Teradata SQL",
   "name": "teradatasql"
  },
  "language_info": {
   "codemirror_mode": "Teradata SQL",
   "file_extension": ".tdrs",
   "mimetype": "application/vnd.teradata.resultset",
   "name": "Teradata SQL",
   "nbconvert_exporter": "",
   "pygments_lexer": "",
   "version": "16.20"
  }
 },
 "nbformat": 4,
 "nbformat_minor": 2
}

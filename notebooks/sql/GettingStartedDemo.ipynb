{
 "cells": [
  {
   "cell_type": "markdown",
   "metadata": {},
   "source": [
    "# This notebook provides a live demo of the Teradata SQL notebook, executing SQL, running queries and magic commands. \n",
    "\n",
    "***"
   ]
  },
  {
   "cell_type": "markdown",
   "metadata": {},
   "source": [
    "<h2>Live Demo Notebook </h2>\n",
    "<p>\n",
    "This notebook provides a simple demonstration of the Teradata SQL Notebook. It provides SQL statements to create sample tables\n",
    "    and load sample data. You will be able to execute magic commands to query the tables and visualize simple chart options.\n",
    "<p>"
   ]
  },
  {
   "cell_type": "markdown",
   "metadata": {},
   "source": [
    "Add a connection to Teradata Vantage that has space to create tables and insert a small data set.\n",
    "<p>\n",
    "Establish a connection.  "
   ]
  },
  {
   "cell_type": "code",
   "execution_count": null,
   "metadata": {},
   "outputs": [],
   "source": [
    "%addconnect name=<connection name>, user=<user name>, host=<host name or IP>"
   ]
  },
  {
   "cell_type": "code",
   "execution_count": null,
   "metadata": {},
   "outputs": [],
   "source": [
    "%connect <connection name>"
   ]
  },
  {
   "cell_type": "markdown",
   "metadata": {},
   "source": [
    "You can use the Navigator to locate a database to create the demo tables. \n",
    "**Note:** Be sure that you do not have tables named **SalesCenter** or **SalesDemo** in the selected database.  Run the SQL command to set the database for the current session."
   ]
  },
  {
   "cell_type": "code",
   "execution_count": null,
   "metadata": {},
   "outputs": [],
   "source": [
    "Database <test database>"
   ]
  },
  {
   "cell_type": "markdown",
   "metadata": {},
   "source": [
    "Create a table to store sales center data. First drop the table incase it already exists. This will fail if the table does not exist."
   ]
  },
  {
   "cell_type": "code",
   "execution_count": null,
   "metadata": {},
   "outputs": [],
   "source": [
    "drop table SalesCenter"
   ]
  },
  {
   "cell_type": "code",
   "execution_count": null,
   "metadata": {},
   "outputs": [],
   "source": [
    "CREATE MULTISET TABLE SalesCenter ,NO FALLBACK ,\n",
    "     NO BEFORE JOURNAL,\n",
    "     NO AFTER JOURNAL,\n",
    "     CHECKSUM = DEFAULT,\n",
    "     DEFAULT MERGEBLOCKRATIO\n",
    "     (\n",
    "      Sales_Center_id INTEGER NOT NULL,\n",
    "      Sales_Center_Name VARCHAR(255) CHARACTER SET LATIN NOT CASESPECIFIC)\n",
    "NO PRIMARY INDEX ;"
   ]
  },
  {
   "cell_type": "code",
   "execution_count": null,
   "metadata": {},
   "outputs": [],
   "source": [
    "INSERT INTO \"SalesCenter\"  (\"Sales_Center_id\", \"Sales_Center_Name\")  VALUES(1111,'Phoenix') ;\n",
    "INSERT INTO \"SalesCenter\"  (\"Sales_Center_id\", \"Sales_Center_Name\")  VALUES(2222,'Bend') ;\n",
    "INSERT INTO \"SalesCenter\"  (\"Sales_Center_id\", \"Sales_Center_Name\")  VALUES(3333,'Omaha') ;\n",
    "INSERT INTO \"SalesCenter\"  (\"Sales_Center_id\", \"Sales_Center_Name\")  VALUES(4444,'Louisville') ;\n",
    "INSERT INTO \"SalesCenter\"  (\"Sales_Center_id\", \"Sales_Center_Name\")  VALUES(5555,'Bismark') ;\n",
    "INSERT INTO \"SalesCenter\"  (\"Sales_Center_id\", \"Sales_Center_Name\")  VALUES(6666,'Memphis') ;\n",
    "INSERT INTO \"SalesCenter\"  (\"Sales_Center_id\", \"Sales_Center_Name\")  VALUES(7777,'Monroe') ;\n",
    "INSERT INTO \"SalesCenter\"  (\"Sales_Center_id\", \"Sales_Center_Name\")  VALUES(8888,'San Diego') ;\n",
    "INSERT INTO \"SalesCenter\"  (\"Sales_Center_id\", \"Sales_Center_Name\")  VALUES(9999,'Redding') ;\n",
    "INSERT INTO \"SalesCenter\"  (\"Sales_Center_id\", \"Sales_Center_Name\")  VALUES(1112,'South Bend') ;\n",
    "INSERT INTO \"SalesCenter\"  (\"Sales_Center_id\", \"Sales_Center_Name\")  VALUES(1113,'Jacksonville') ;\n",
    "INSERT INTO \"SalesCenter\"  (\"Sales_Center_id\", \"Sales_Center_Name\")  VALUES(1114,'Fort Wayne') ;\n",
    "INSERT INTO \"SalesCenter\"  (\"Sales_Center_id\", \"Sales_Center_Name\")  VALUES(1115,'Billings') ;\n",
    "INSERT INTO \"SalesCenter\"  (\"Sales_Center_id\", \"Sales_Center_Name\")  VALUES(1116,'Portland') ;\n",
    "INSERT INTO \"SalesCenter\"  (\"Sales_Center_id\", \"Sales_Center_Name\")  VALUES(1117,'Ashland') ;\n",
    "INSERT INTO \"SalesCenter\"  (\"Sales_Center_id\", \"Sales_Center_Name\")  VALUES(1118,'Wacco') ;\n",
    "INSERT INTO \"SalesCenter\"  (\"Sales_Center_id\", \"Sales_Center_Name\")  VALUES(1119,'Flint') ;\n",
    "INSERT INTO \"SalesCenter\"  (\"Sales_Center_id\", \"Sales_Center_Name\")  VALUES(2000,'Arlington') ;\n",
    "INSERT INTO \"SalesCenter\"  (\"Sales_Center_id\", \"Sales_Center_Name\")  VALUES(2111,'Bakersfield') ;\n",
    "INSERT INTO \"SalesCenter\"  (\"Sales_Center_id\", \"Sales_Center_Name\")  VALUES(3111,'Orange') ;"
   ]
  },
  {
   "cell_type": "markdown",
   "metadata": {},
   "source": [
    "Verify data was inserted."
   ]
  },
  {
   "cell_type": "code",
   "execution_count": null,
   "metadata": {},
   "outputs": [],
   "source": [
    "select * from salescenter order by 1"
   ]
  },
  {
   "cell_type": "markdown",
   "metadata": {},
   "source": [
    "Create a table with sales demo data."
   ]
  },
  {
   "cell_type": "code",
   "execution_count": null,
   "metadata": {},
   "outputs": [],
   "source": [
    "drop table salesdemo"
   ]
  },
  {
   "cell_type": "code",
   "execution_count": null,
   "metadata": {},
   "outputs": [],
   "source": [
    "CREATE MULTISET TABLE SalesDemo ,NO FALLBACK ,\n",
    "     NO BEFORE JOURNAL,\n",
    "     NO AFTER JOURNAL,\n",
    "     CHECKSUM = DEFAULT,\n",
    "     DEFAULT MERGEBLOCKRATIO\n",
    "     (\n",
    "      Sales_Center_ID INTEGER NOT NULL,\n",
    "      UNITS DECIMAL(15,4),\n",
    "      SALES DECIMAL(15,2),\n",
    "      COST DECIMAL(15,2))\n",
    "NO PRIMARY INDEX ;"
   ]
  },
  {
   "cell_type": "code",
   "execution_count": null,
   "metadata": {},
   "outputs": [],
   "source": [
    "INSERT INTO \"SalesDemo\"  (\"Sales_Center_ID\", \"UNITS\", \"SALES\", \"COST\")  VALUES(1111,0.0000,0.00,0.00);\n",
    "INSERT INTO \"SalesDemo\"  (\"Sales_Center_ID\", \"UNITS\", \"SALES\", \"COST\")  VALUES(2222,1.0000,18.75,9.50);\n",
    "INSERT INTO \"SalesDemo\"  (\"Sales_Center_ID\", \"UNITS\", \"SALES\", \"COST\")  VALUES(3333,5.0000,32.00,12.80);\n",
    "INSERT INTO \"SalesDemo\"  (\"Sales_Center_ID\", \"UNITS\", \"SALES\", \"COST\")  VALUES(4444,1.0000,20.85,9.50);\n",
    "INSERT INTO \"SalesDemo\"  (\"Sales_Center_ID\", \"UNITS\", \"SALES\", \"COST\")  VALUES(5555,1.0000,7.97,3.89);\n",
    "INSERT INTO \"SalesDemo\"  (\"Sales_Center_ID\", \"UNITS\", \"SALES\", \"COST\")  VALUES(6666,1.0000,18.75,5.20);\n",
    "INSERT INTO \"SalesDemo\"  (\"Sales_Center_ID\", \"UNITS\", \"SALES\", \"COST\")  VALUES(7777,0.0000,0.00,0.00);\n",
    "INSERT INTO \"SalesDemo\"  (\"Sales_Center_ID\", \"UNITS\", \"SALES\", \"COST\")  VALUES(8888,1.0000,10.60,5.36);\n",
    "INSERT INTO \"SalesDemo\"  (\"Sales_Center_ID\", \"UNITS\", \"SALES\", \"COST\")  VALUES(9999,0.0000,0.00,0.00);\n",
    "INSERT INTO \"SalesDemo\"  (\"Sales_Center_ID\", \"UNITS\", \"SALES\", \"COST\")  VALUES(1112,1.0000,8.00,2.65);\n",
    "INSERT INTO \"SalesDemo\"  (\"Sales_Center_ID\", \"UNITS\", \"SALES\", \"COST\")  VALUES(1113,5.0000,39.42,10.68);\n",
    "INSERT INTO \"SalesDemo\"  (\"Sales_Center_ID\", \"UNITS\", \"SALES\", \"COST\")  VALUES(1114,5.0000,35.58,15.84);\n",
    "INSERT INTO \"SalesDemo\"  (\"Sales_Center_ID\", \"UNITS\", \"SALES\", \"COST\")  VALUES(1115,0.0000,0.00,0.00);\n",
    "INSERT INTO \"SalesDemo\"  (\"Sales_Center_ID\", \"UNITS\", \"SALES\", \"COST\")  VALUES(1116,1.0000,17.18,2.69);\n",
    "INSERT INTO \"SalesDemo\"  (\"Sales_Center_ID\", \"UNITS\", \"SALES\", \"COST\")  VALUES(1117,1.0000,9.50,3.01);\n",
    "INSERT INTO \"SalesDemo\"  (\"Sales_Center_ID\", \"UNITS\", \"SALES\", \"COST\")  VALUES(1118,4.0000,27.10,6.79);\n",
    "INSERT INTO \"SalesDemo\"  (\"Sales_Center_ID\", \"UNITS\", \"SALES\", \"COST\")  VALUES(1119,0.0000,0.00,0.00);\n",
    "INSERT INTO \"SalesDemo\"  (\"Sales_Center_ID\", \"UNITS\", \"SALES\", \"COST\")  VALUES(2111,4.0000,29.00,13.63);\n",
    "INSERT INTO \"SalesDemo\"  (\"Sales_Center_ID\", \"UNITS\", \"SALES\", \"COST\")  VALUES(3111,21.0000,55.00,57.98);\n",
    "INSERT INTO \"SalesDemo\"  (\"Sales_Center_ID\", \"UNITS\", \"SALES\", \"COST\")  VALUES(1111,0.0000,0.00,0.00);\n",
    "INSERT INTO \"SalesDemo\"  (\"Sales_Center_ID\", \"UNITS\", \"SALES\", \"COST\")  VALUES(2222,0.0000,0.00,0.00);\n",
    "INSERT INTO \"SalesDemo\"  (\"Sales_Center_ID\", \"UNITS\", \"SALES\", \"COST\")  VALUES(3333,10.0000,43.78,77.42);\n",
    "INSERT INTO \"SalesDemo\"  (\"Sales_Center_ID\", \"UNITS\", \"SALES\", \"COST\")  VALUES(4444,70.0000,65.73,238.20);\n",
    "INSERT INTO \"SalesDemo\"  (\"Sales_Center_ID\", \"UNITS\", \"SALES\", \"COST\")  VALUES(5555,0.0000,0.00,0.00);\n",
    "INSERT INTO \"SalesDemo\"  (\"Sales_Center_ID\", \"UNITS\", \"SALES\", \"COST\")  VALUES(6666,1.0000,7.79,4.51);\n",
    "INSERT INTO \"SalesDemo\"  (\"Sales_Center_ID\", \"UNITS\", \"SALES\", \"COST\")  VALUES(7777,1.0000,15.25,7.27);\n",
    "INSERT INTO \"SalesDemo\"  (\"Sales_Center_ID\", \"UNITS\", \"SALES\", \"COST\")  VALUES(8888,0.0000,0.00,0.00);\n",
    "INSERT INTO \"SalesDemo\"  (\"Sales_Center_ID\", \"UNITS\", \"SALES\", \"COST\")  VALUES(9999,0.0000,0.00,0.00);\n",
    "INSERT INTO \"SalesDemo\"  (\"Sales_Center_ID\", \"UNITS\", \"SALES\", \"COST\")  VALUES(1112,3.0000,19.36,10.05);\n",
    "INSERT INTO \"SalesDemo\"  (\"Sales_Center_ID\", \"UNITS\", \"SALES\", \"COST\")  VALUES(1113,1.0000,16.50,10.99);"
   ]
  },
  {
   "cell_type": "markdown",
   "metadata": {},
   "source": [
    "Verify that the sales demo data inserted successfully."
   ]
  },
  {
   "cell_type": "code",
   "execution_count": null,
   "metadata": {},
   "outputs": [],
   "source": [
    "select * from salesdemo order by sales"
   ]
  },
  {
   "cell_type": "markdown",
   "metadata": {},
   "source": [
    "You can now open a Navigator for your connection and verify that the tables were created. Run a row count on the tables to verify the data was loaded."
   ]
  },
  {
   "cell_type": "markdown",
   "metadata": {},
   "source": [
    "Create a result set from the sales data."
   ]
  },
  {
   "cell_type": "code",
   "execution_count": null,
   "metadata": {},
   "outputs": [],
   "source": [
    "select f.sales, f.sales_center_id, s.sales_center_name from salesdemo f\n",
    "  inner join salescenter s on s.Sales_Center_id = f.Sales_Center_id"
   ]
  },
  {
   "cell_type": "markdown",
   "metadata": {},
   "source": [
    "The charting magic allows you to quickly visualize the result, providing x and y axes for the chart."
   ]
  },
  {
   "cell_type": "code",
   "execution_count": null,
   "metadata": {},
   "outputs": [],
   "source": [
    "%chart sales_center_name,sales, title=Sales Data"
   ]
  },
  {
   "cell_type": "markdown",
   "metadata": {},
   "source": [
    "Change the chart to a point chart by passing the mark=point option."
   ]
  },
  {
   "cell_type": "code",
   "execution_count": null,
   "metadata": {},
   "outputs": [],
   "source": [
    "%chart sales_center_name, sales,mark=point,title=Sales Data Point"
   ]
  },
  {
   "cell_type": "markdown",
   "metadata": {},
   "source": [
    "Run the %history magic to view past query results."
   ]
  },
  {
   "cell_type": "code",
   "execution_count": null,
   "metadata": {},
   "outputs": [],
   "source": [
    "%history"
   ]
  },
  {
   "cell_type": "markdown",
   "metadata": {},
   "source": [
    "Locate the history ID for query 'select * from salesdemo order by sales' that was run above.\n",
    "<p>\n",
    "Run the %chart magic and pass in the ResultSet id. For example, id of 29 is used below."
   ]
  },
  {
   "cell_type": "code",
   "execution_count": null,
   "metadata": {},
   "outputs": [],
   "source": [
    "%chart sales_center_id,sales, id=29"
   ]
  },
  {
   "cell_type": "markdown",
   "metadata": {},
   "source": [
    "You can also retrieve a ResultSet from the history by running the %table magic, passing a ResultSet id."
   ]
  },
  {
   "cell_type": "code",
   "execution_count": null,
   "metadata": {},
   "outputs": [],
   "source": [
    "%table 30"
   ]
  },
  {
   "cell_type": "markdown",
   "metadata": {},
   "source": [
    "As mentioned in the Getting Started notebook, you can copy a resultset path and paste it into panda or data frame command in a Python or R notebook. Click the Copy icon at the top of the ResultSet output. \n",
    "<p>\n",
    "Open a Python notebook with the following statement:\n",
    "\n",
    "```python\n",
    "import pandas as pd\n",
    "df = pd.read_json(\"\")\n",
    "df\n",
    "```\n",
    "Paste the result set path into a Python notebook using the command **pd.read_json(\"<ResultSetPath>\")**<br>\n",
    "For example:<br>\n",
    "    \n",
    "```python\n",
    "df = pd.read_json(\"/home/jovyan/JupyterLabRoot/Teradata/Resultsets/2018.08.02_16.13.05.164_UTC/00001.json\")\n",
    "```"
   ]
  },
  {
   "cell_type": "markdown",
   "metadata": {},
   "source": [
    "Drop tables to clean up data."
   ]
  },
  {
   "cell_type": "code",
   "execution_count": null,
   "metadata": {},
   "outputs": [],
   "source": [
    "drop table SalesCenter;"
   ]
  },
  {
   "cell_type": "code",
   "execution_count": null,
   "metadata": {},
   "outputs": [],
   "source": [
    "drop table salesdemo;"
   ]
  },
  {
   "cell_type": "markdown",
   "metadata": {},
   "source": [
    "Copyright 2018-2019 Teradata. All rights reserved."
   ]
  }
 ],
 "metadata": {
  "kernelspec": {
   "display_name": "Teradata SQL",
   "language": "Teradata SQL",
   "name": "teradatasql"
  },
  "language_info": {
   "codemirror_mode": "Teradata SQL",
   "file_extension": ".tdrs",
   "mimetype": "application/vnd.teradata.resultset",
   "name": "Teradata SQL",
   "nbconvert_exporter": "",
   "pygments_lexer": "",
   "version": "16.20"
  }
 },
 "nbformat": 4,
 "nbformat_minor": 2
}

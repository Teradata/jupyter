{
 "cells": [
  {
   "cell_type": "markdown",
   "metadata": {},
   "source": [
    "<h2>What's New in Vantage Modules for Jupyter 2.1</h2>\n",
    "<p>"
   ]
  },
  {
   "cell_type": "markdown",
   "metadata": {},
   "source": [
    "<h4>The following new features are provided in this release:</h4>\n",
    " <ul>\n",
    "    <li><b>Support for JupyterLab 2.x</b></li>\n",
    "    <li><b>SQL Kernel Preference settings</b></li>\n",
    "      <ul>\n",
    "        <li>Teradata SQL Kernel preferences are enabled through the JupyterLab Settings toolbar.</li>\n",
    "        <li>Choose Settings>Advanced Settings Editor>Teradata Preferences</li>\n",
    "        <li>Modify the preference JSON in the right-hand panel and press the 'Save User Settings' button in upper right-hand toolbar.</li>\n",
    "        <li>You must restart your Navigator or SQL notebook for the new preferences to take affect.</li>\n",
    "      </ul>  \n",
    "    <li><b>Resultset Rendering Enhancements</b></li>\n",
    "        <ul>\n",
    "          <li>Stores resultset data in single CSV file</li>\n",
    "          <li>Resultset grid uses scrolling action instead of paging</li>\n",
    "          <li>Row numbers provided on data grid</li>\n",
    "          <li>Right-click menu options, <b>Show Cell as Text</b> and <b>Copy Cells to Clipboard</b></li>\n",
    "        </ul>  \n",
    "    <li><b>History Display Enhancements</b></li>\n",
    "        <ul>\n",
    "            <li>Display single history item with additional details (<b>%history id=[history ID]</b></li>\n",
    "            <li>Show all history items (<b>%history all</b>)</li>\n",
    "          <li>Right-click menu options, <b>Show Cell as Text</b> and <b>Copy Cells to Clipboard</b></li>\n",
    "        </ul>  \n",
    "    <li>Support for <b>Default Database</b> on %addconnect, %connect, and %chconnect magics (DATABASE=[Default Database])</li>\n",
    "    <li>Current Database magic (<b>%help currentdb</b>) displays the current database for the connection.</li>\n",
    "    <li><b>Navigator Enhancements</b></li>\n",
    "        <ul>\n",
    "            <li>Show <b>NOS Foreign Tables</b> with new icon</li>\n",
    "            <ul>\n",
    "              <li>Disable Row Count and Show Column Distribution for NOS tables</li>\n",
    "            </ul>\n",
    "            <li>Provide new <b>Show DDL</b> context menu option for tables and views, with option to Copy to Clipboard</li>\n",
    "            <li>Display <b>connected username</b> in connections list and on JupyterLab status bar</li>\n",
    "        </ul>  \n",
    "\n",
    "</ul>    "
   ]
  },
  {
   "cell_type": "markdown",
   "metadata": {},
   "source": [
    "#### Refer to the GettingStarted notebook for more information on the new features."
   ]
  },
  {
   "cell_type": "markdown",
   "metadata": {},
   "source": [
    "Copyright 2020 Teradata. All rights reserved."
   ]
  }
 ],
 "metadata": {
  "kernelspec": {
   "display_name": "Teradata SQL",
   "language": "Teradata SQL",
   "name": "teradatasql"
  },
  "language_info": {
   "codemirror_mode": "Teradata SQL",
   "file_extension": ".tdrs",
   "mimetype": "application/vnd.teradata.resultset",
   "name": "Teradata SQL",
   "nbconvert_exporter": "",
   "pygments_lexer": "",
   "version": "16.20"
  },
  "toc-autonumbering": false,
  "toc-showcode": false,
  "toc-showmarkdowntxt": false,
  "toc-showtags": false
 },
 "nbformat": 4,
 "nbformat_minor": 4
}

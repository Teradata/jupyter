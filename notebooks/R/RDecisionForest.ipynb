{
 "cells": [
  {
   "cell_type": "markdown",
   "metadata": {},
   "source": [
    "<h2> Decision Forest Example</h2>\n",
    "This R notebook shows an example of using the Decision Forest Model.  This example uses the dataset \"fgl\" found in the R package \"MASS\".\n",
    "\n",
    "<i>NOTE: You must have a connection to Teradata Vantage that has the Teradata analytic functions installed.</i>"
   ]
  },
  {
   "cell_type": "code",
   "execution_count": null,
   "metadata": {},
   "outputs": [],
   "source": [
    "help(package=tdplyr,td_decision_forest_mle)"
   ]
  },
  {
   "cell_type": "code",
   "execution_count": null,
   "metadata": {},
   "outputs": [],
   "source": [
    "help(package=tdplyr,td_decision_forest_predict_sqle)"
   ]
  },
  {
   "cell_type": "markdown",
   "metadata": {},
   "source": [
    "<h3> Include libraries and create a connection using the native driver </h3>"
   ]
  },
  {
   "cell_type": "code",
   "execution_count": null,
   "metadata": {},
   "outputs": [],
   "source": [
    "library(tdplyr)\n",
    "library(dplyr)\n",
    "library(dbplyr)\n",
    "library(DBI)\n",
    "library(MASS)\n",
    "\n",
    "# Replace your cluster details for user, passwd and host\n",
    "user = \"xxxxxx\"\n",
    "passwd = \"xxxxxx\"\n",
    "host = \"xxxxxx\"\n",
    "con <- td_create_context(host = host, uid = user, pwd = passwd, dType = \"native\")\n",
    "con\n",
    "\n"
   ]
  },
  {
   "cell_type": "markdown",
   "metadata": {},
   "source": [
    "<h3> Perform preliminary tasks </h3>"
   ]
  },
  {
   "cell_type": "code",
   "execution_count": null,
   "metadata": {},
   "outputs": [],
   "source": [
    "fgl_with_rowids <- cbind(rownames(fgl), fgl)\n",
    "newColNames <- c(\"rowID\", \"RI\", \"Na\", \"Mg\", \"Al\", \"Si\", \"K\", \"Ca\", \"Ba\", \"Fe\", \"type\")\n",
    "\n",
    "colnames(fgl_with_rowids) <- newColNames"
   ]
  },
  {
   "cell_type": "markdown",
   "metadata": {},
   "source": [
    "<h3>Divide the data into training and test datasets using the split() function.  </h3>"
   ]
  },
  {
   "cell_type": "code",
   "execution_count": null,
   "metadata": {},
   "outputs": [],
   "source": [
    "glass_types <- split(fgl_with_rowids, fgl_with_rowids$type)"
   ]
  },
  {
   "cell_type": "markdown",
   "metadata": {},
   "source": [
    "<h3>Use \"glass_types\" to get the data of each individual type in separate lists.</h3>"
   ]
  },
  {
   "cell_type": "code",
   "execution_count": null,
   "metadata": {},
   "outputs": [],
   "source": [
    "WinF <- glass_types[[1]]\n",
    "WinNF <- glass_types[[2]]\n",
    "Veh <- glass_types[[3]]\n",
    "Con <- glass_types[[4]]\n",
    "Tabl <- glass_types[[5]]\n",
    "Head <- glass_types[[6]]"
   ]
  },
  {
   "cell_type": "markdown",
   "metadata": {},
   "source": [
    "<h3>Divide the observations for each type into training and test subsets. In this example, use 70% the observations as training data and the rest 30% as test data. </h3>"
   ]
  },
  {
   "cell_type": "code",
   "execution_count": null,
   "metadata": {},
   "outputs": [],
   "source": [
    "WinF_train_indices <- sample(1:nrow(WinF), 0.7*nrow(WinF))\n",
    "WinF.test <- WinF[-WinF_train_indices,]\n",
    "WinF.train <- WinF[WinF_train_indices,]\n",
    "\n",
    "WinNF_train_indices <- sample(1:nrow(WinNF), 0.7*nrow(WinNF))\n",
    "WinNF.test <- WinNF[-WinNF_train_indices,]\n",
    "WinNF.train <- WinNF[WinNF_train_indices,]\n",
    "\n",
    "Veh_train_indices <- sample(1:nrow(Veh), 0.7*nrow(Veh))\n",
    "Veh.test <- Veh[-Veh_train_indices,]\n",
    "Veh.train <- Veh[Veh_train_indices,]\n",
    "\n",
    "Con_train_indices <- sample(1:nrow(Con), 0.7*nrow(Con))\n",
    "Con.test <- Con[-Con_train_indices,]\n",
    "Con.train <- Con[Con_train_indices,]\n",
    "\n",
    "Tabl_train_indices <- sample(1:nrow(Tabl), 0.7*nrow(Tabl))\n",
    "Tabl.test <- Tabl[-Tabl_train_indices,]\n",
    "Tabl.train <- Tabl[Tabl_train_indices,]\n",
    "\n",
    "Head_train_indices <- sample(1:nrow(Head), 0.7*nrow(Head))\n",
    "Head.test <- Head[-Head_train_indices,]\n",
    "Head.train <- Head[Head_train_indices,]"
   ]
  },
  {
   "cell_type": "markdown",
   "metadata": {},
   "source": [
    "<h3> Combine the training and test subsets for each type to create the training and test datasets \"fgl.tr\" and \"fgl.te\", respectively. </h3>"
   ]
  },
  {
   "cell_type": "code",
   "execution_count": null,
   "metadata": {},
   "outputs": [],
   "source": [
    "fgl.tr <- rbind(WinNF.train, Con.train, Tabl.train, Veh.train, WinF.train, Head.train)\n",
    "\n",
    "fgl.te <- rbind(WinNF.test, Con.test, Tabl.test, Veh.test, WinF.test, Head.test)"
   ]
  },
  {
   "cell_type": "markdown",
   "metadata": {},
   "source": [
    "<h3> Save the training and test datasets into the Teradata Database using the copy_to() function. </h3>"
   ]
  },
  {
   "cell_type": "code",
   "execution_count": null,
   "metadata": {},
   "outputs": [],
   "source": [
    "copy_to(con, fgl.tr, name=\"fgl_train\", overwrite=FALSE)\n",
    "\n",
    "copy_to(con, fgl.te, name=\"fgl_test\", overwrite=FALSE)"
   ]
  },
  {
   "cell_type": "markdown",
   "metadata": {},
   "source": [
    "<h3> Create R tables from the Teradata Database tables using the tbl() function. </h3>"
   ]
  },
  {
   "cell_type": "code",
   "execution_count": null,
   "metadata": {},
   "outputs": [],
   "source": [
    "tddf_fgl.tr <- tbl(con, \"fgl_train\")\n",
    "\n",
    "tddf_fgl.te <- tbl(con, \"fgl_test\")"
   ]
  },
  {
   "cell_type": "markdown",
   "metadata": {},
   "source": [
    "<h3>Create two different Decision Forest models with the training datasets using the td_decision_forest_mle tdplyr analytic function. </h3>"
   ]
  },
  {
   "cell_type": "code",
   "execution_count": null,
   "metadata": {},
   "outputs": [],
   "source": [
    "glass_rf_list_1 <- td_decision_forest_mle(\n",
    "  formula = (type ~ RI + Na + Mg + Al + Si + K + Ca + Ba + Fe),\n",
    "  tree.type = \"classification\",\n",
    "  data = tddf_fgl.tr,\n",
    "  ntree = 5)\n",
    "\n",
    "glass_rf_list_2 <- td_decision_forest_mle(\n",
    "  formula = (type ~ RI + Na + Mg + Al + Si + K + Ca + Ba + Fe),\n",
    "  tree.type = \"classification\",\n",
    "  data = tddf_fgl.tr,\n",
    "  ntree = 6,\n",
    "  mtry = 3)"
   ]
  },
  {
   "cell_type": "markdown",
   "metadata": {},
   "source": [
    "<h3> Predict on the test dataset for each model using the td_decision_forest_predict_sqle tdplyr analytic function. </h3>"
   ]
  },
  {
   "cell_type": "code",
   "execution_count": null,
   "metadata": {},
   "outputs": [],
   "source": [
    "td_decision_forest_predict_sqle(\n",
    "  object = glass_rf_list_1,\n",
    "  newdata = tddf_fgl.te,\n",
    "  id.column = \"rowID\"\n",
    ")\n",
    "\n",
    "td_decision_forest_predict_sqle(\n",
    "  object = glass_rf_list_2,\n",
    "  newdata = tddf_fgl.te,\n",
    "  id.column = \"rowID\"\n",
    ")"
   ]
  },
  {
   "cell_type": "markdown",
   "metadata": {},
   "source": [
    "<h4> Remove tables created by this example </h4>"
   ]
  },
  {
   "cell_type": "code",
   "execution_count": null,
   "metadata": {},
   "outputs": [],
   "source": [
    "dbRemoveTable(con,\"fgl_test\")"
   ]
  },
  {
   "cell_type": "code",
   "execution_count": null,
   "metadata": {},
   "outputs": [],
   "source": [
    "dbRemoveTable(con,\"fgl_train\")"
   ]
  },
  {
   "cell_type": "code",
   "execution_count": null,
   "metadata": {},
   "outputs": [],
   "source": [
    "td_remove_context()"
   ]
  },
  {
   "cell_type": "markdown",
   "metadata": {},
   "source": [
    "<span style=\"font-size:16px;\">For more information on the Teradata analytic functions, refer to the [Teradata Documentation](https://docs.teradata.com/) and search for Teradata R Package.</span>"
   ]
  },
  {
   "cell_type": "markdown",
   "metadata": {},
   "source": [
    "Copyright 2019 Teradata. All rights reserved."
   ]
  }
 ],
 "metadata": {
  "kernelspec": {
   "display_name": "R",
   "language": "R",
   "name": "ir"
  },
  "language_info": {
   "codemirror_mode": "r",
   "file_extension": ".r",
   "mimetype": "text/x-r-source",
   "name": "R",
   "pygments_lexer": "r",
   "version": "3.6.1"
  }
 },
 "nbformat": 4,
 "nbformat_minor": 4
}

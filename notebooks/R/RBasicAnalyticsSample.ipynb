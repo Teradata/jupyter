{
 "cells": [
  {
   "cell_type": "markdown",
   "metadata": {},
   "source": [
    "<h2>Basic Analytic Functions Operations</h2>\n",
    "<p>\n",
    "This R Notebook provides some basic workflow operations for the Teradata analytic functions library.</p>\n",
    "\n",
    "<i>NOTE: You must have a connection to Teradata Vantage that has the Teradata analytic functions installed.</i>\n",
    "    \n"
   ]
  },
  {
   "cell_type": "markdown",
   "metadata": {},
   "source": [
    "<h3> Get the list of installed packages </h3>"
   ]
  },
  {
   "cell_type": "code",
   "execution_count": null,
   "metadata": {},
   "outputs": [],
   "source": [
    "installed.packages()"
   ]
  },
  {
   "cell_type": "markdown",
   "metadata": {},
   "source": [
    "<h3> Show help for the Teradata tdplyr package </h3>"
   ]
  },
  {
   "cell_type": "code",
   "execution_count": null,
   "metadata": {},
   "outputs": [],
   "source": [
    "help(package=tdplyr)"
   ]
  },
  {
   "cell_type": "markdown",
   "metadata": {},
   "source": [
    "<h3> Show help for specific functions in Teradata tdplyr package </h3>"
   ]
  },
  {
   "cell_type": "code",
   "execution_count": null,
   "metadata": {},
   "outputs": [],
   "source": [
    "help(package=tdplyr,td_create_context)"
   ]
  },
  {
   "cell_type": "code",
   "execution_count": null,
   "metadata": {},
   "outputs": [],
   "source": [
    "help(package=tdplyr,td_naivebayes_mle)"
   ]
  },
  {
   "cell_type": "markdown",
   "metadata": {},
   "source": [
    "<h3> Include the tdplyr library </h3>"
   ]
  },
  {
   "cell_type": "code",
   "execution_count": null,
   "metadata": {},
   "outputs": [],
   "source": [
    "library(tdplyr)"
   ]
  },
  {
   "cell_type": "markdown",
   "metadata": {},
   "source": [
    "<h3> Create a connection using the native driver</h3>"
   ]
  },
  {
   "cell_type": "code",
   "execution_count": null,
   "metadata": {},
   "outputs": [],
   "source": [
    "# Replace your cluster details for user, passwd and host\n",
    "user = \"xxxxx\"\n",
    "passwd = \"xxxxx\"\n",
    "host = \"xxxxx\"\n",
    "con <- td_create_context(host = host, uid = user, pwd = passwd, dType = \"native\")\n",
    "con"
   ]
  },
  {
   "cell_type": "markdown",
   "metadata": {},
   "source": [
    "<h3>Creating tables and data frames </h3>"
   ]
  },
  {
   "cell_type": "markdown",
   "metadata": {},
   "source": [
    "<h4> Include dplr and dbplyr libraries </h4>"
   ]
  },
  {
   "cell_type": "code",
   "execution_count": null,
   "metadata": {},
   "outputs": [],
   "source": [
    "library(dplyr)\n",
    "library(dbplyr)"
   ]
  },
  {
   "cell_type": "markdown",
   "metadata": {},
   "source": [
    "<h4>Create a table iris_flowers from R built in dataset iris</h4>"
   ]
  },
  {
   "cell_type": "code",
   "execution_count": null,
   "metadata": {},
   "outputs": [],
   "source": [
    "copy_to(con, iris, name=\"iris_flowers\", overwrite=FALSE)"
   ]
  },
  {
   "cell_type": "code",
   "execution_count": null,
   "metadata": {},
   "outputs": [],
   "source": [
    "class(iris)"
   ]
  },
  {
   "cell_type": "markdown",
   "metadata": {},
   "source": [
    "<h4>Create a tibble from a table</h4>"
   ]
  },
  {
   "cell_type": "code",
   "execution_count": null,
   "metadata": {},
   "outputs": [],
   "source": [
    "tddf_iris <- tbl(con, \"iris_flowers\")"
   ]
  },
  {
   "cell_type": "code",
   "execution_count": null,
   "metadata": {},
   "outputs": [],
   "source": [
    "tddf_iris"
   ]
  },
  {
   "cell_type": "markdown",
   "metadata": {},
   "source": [
    "<h4> Create a data frame from a tibble </h4>"
   ]
  },
  {
   "cell_type": "code",
   "execution_count": null,
   "metadata": {},
   "outputs": [],
   "source": [
    "df_iris <- as.data.frame(tddf_iris, n=20)"
   ]
  },
  {
   "cell_type": "code",
   "execution_count": null,
   "metadata": {},
   "outputs": [],
   "source": [
    "tddf_iris"
   ]
  },
  {
   "cell_type": "code",
   "execution_count": null,
   "metadata": {},
   "outputs": [],
   "source": [
    "df_iris"
   ]
  },
  {
   "cell_type": "markdown",
   "metadata": {},
   "source": [
    "<h3> Using Naïve Bayes Model </h3>"
   ]
  },
  {
   "cell_type": "markdown",
   "metadata": {},
   "source": [
    "<h4> Include additional libraries DBI and MASS </h4>"
   ]
  },
  {
   "cell_type": "code",
   "execution_count": null,
   "metadata": {},
   "outputs": [],
   "source": [
    "library(DBI)\n",
    "library(MASS)"
   ]
  },
  {
   "cell_type": "markdown",
   "metadata": {},
   "source": [
    "<h4> Load the \"MASS\" package and perform preliminary tasks </h4>"
   ]
  },
  {
   "cell_type": "code",
   "execution_count": null,
   "metadata": {},
   "outputs": [],
   "source": [
    "PimaTr <-Pima.tr\n",
    "PimaTr$rowID <-seq.int(nrow(Pima.tr))\n",
    "PimaTr$type <-tolower(PimaTr$type)\n",
    "\n",
    "PimaTe <-Pima.te\n",
    "PimaTe$rowID <-seq.int(nrow(Pima.te))\n",
    "PimaTe$type <-tolower(PimaTe$type) "
   ]
  },
  {
   "cell_type": "markdown",
   "metadata": {},
   "source": [
    "<h4> Create tables in Vantage to hold the data </h4>"
   ]
  },
  {
   "cell_type": "code",
   "execution_count": null,
   "metadata": {},
   "outputs": [],
   "source": [
    "copy_to(con, PimaTr, name=\"Pima_train\", overwrite=FALSE)\n",
    "\n",
    "copy_to(con, PimaTe, name=\"Pima_test\", overwrite=FALSE)"
   ]
  },
  {
   "cell_type": "markdown",
   "metadata": {},
   "source": [
    "<h4> Create R tables from the Vantage tables created in previous step </h4>"
   ]
  },
  {
   "cell_type": "code",
   "execution_count": null,
   "metadata": {},
   "outputs": [],
   "source": [
    "tddf_Pima.tr <- tbl(con, \"Pima_train\")\n",
    "\n",
    "tddf_Pima.te <- tbl(con, \"Pima_test\")"
   ]
  },
  {
   "cell_type": "markdown",
   "metadata": {},
   "source": [
    "<h4> Create the Naïve Bayes model from the training dataset using the td_naivebayes_mle() tdplyr analytic function </h4>"
   ]
  },
  {
   "cell_type": "code",
   "execution_count": null,
   "metadata": {},
   "outputs": [],
   "source": [
    "nbmodel <- td_naivebayes_mle(\n",
    "  formula = (type ~ npreg + glu + bp + skin + bmi + ped + age),\n",
    "  data = tddf_Pima.tr\n",
    ")"
   ]
  },
  {
   "cell_type": "markdown",
   "metadata": {},
   "source": [
    "<h4> Run the model on the test dataset using the td_naivebayes_predict_sqle() tdplyr analytic function </h4>"
   ]
  },
  {
   "cell_type": "code",
   "execution_count": null,
   "metadata": {},
   "outputs": [],
   "source": [
    "pred <- td_naivebayes_predict_sqle(\n",
    "  formula = (type ~ npreg + glu + bp + skin + bmi + ped + age),\n",
    "  modeldata = nbmodel,\n",
    "  newdata = tddf_Pima.te,\n",
    "  id.col = \"rowID\",\n",
    "  responses = c(\"yes\", \"no\")\n",
    ")"
   ]
  },
  {
   "cell_type": "markdown",
   "metadata": {},
   "source": [
    "<h3> To assess the model prediction, obtain the confusion matrix to analyze the performance of the model </h3>"
   ]
  },
  {
   "cell_type": "markdown",
   "metadata": {},
   "source": [
    "<h4> Store the observed response and the predicted values in a data frame </h4>"
   ]
  },
  {
   "cell_type": "code",
   "execution_count": null,
   "metadata": {},
   "outputs": [],
   "source": [
    "df <- inner_join(pred$result, tddf_Pima.te, by=\"rowID\") %>% dplyr::select(prediction, response = type)"
   ]
  },
  {
   "cell_type": "markdown",
   "metadata": {},
   "source": [
    "<h4> Create the \"confusionMatrix_tbl\" table in Vantage to hold the confusion matrix </h4>"
   ]
  },
  {
   "cell_type": "code",
   "execution_count": null,
   "metadata": {},
   "outputs": [],
   "source": [
    "copy_to(con, df, name=\"confusionMatrix_tbl\")"
   ]
  },
  {
   "cell_type": "markdown",
   "metadata": {},
   "source": [
    "<h4> Create an R table from the existing Vantage table with the tbl() function </h4>"
   ]
  },
  {
   "cell_type": "code",
   "execution_count": null,
   "metadata": {},
   "outputs": [],
   "source": [
    "tddf_confusionMatrix_tbl <-tbl(con, \"confusionMatrix_tbl\")"
   ]
  },
  {
   "cell_type": "markdown",
   "metadata": {},
   "source": [
    "<h4> Invoke the td_confusion_matrix_mle() tdplyr analytic function to analyze the performance of the model </h4>"
   ]
  },
  {
   "cell_type": "code",
   "execution_count": null,
   "metadata": {},
   "outputs": [],
   "source": [
    "cmResult <- td_confusion_matrix_mle(\n",
    "  data = tddf_confusionMatrix_tbl,\n",
    "  reference = \"response\",\n",
    "  prediction = \"prediction\"\n",
    ")"
   ]
  },
  {
   "cell_type": "markdown",
   "metadata": {},
   "source": [
    "The confusion matrix analysis creates three output tables in Vantage and a fourth table that declares whether the analysis has run successfully.\n",
    "\n",
    "These tables are stored by the td_confusion_matrix_mle() function in a named list as tibble objects."
   ]
  },
  {
   "cell_type": "markdown",
   "metadata": {},
   "source": [
    "<h3> Examine the results by invoking the output tibbles </h3>"
   ]
  },
  {
   "cell_type": "code",
   "execution_count": null,
   "metadata": {},
   "outputs": [],
   "source": [
    "print( cmResult$counttable )\n",
    "\n",
    "print( cmResult$stattable )\n",
    "\n",
    "print( cmResult$accuracytable )\n",
    "\n",
    "print( cmResult$output )"
   ]
  },
  {
   "cell_type": "markdown",
   "metadata": {},
   "source": [
    "<h4> Remove tables created by this example </h4>"
   ]
  },
  {
   "cell_type": "code",
   "execution_count": null,
   "metadata": {},
   "outputs": [],
   "source": [
    "dbRemoveTable(con,\"iris_flowers\")"
   ]
  },
  {
   "cell_type": "code",
   "execution_count": null,
   "metadata": {},
   "outputs": [],
   "source": [
    "dbRemoveTable(con,\"Pima_test\")"
   ]
  },
  {
   "cell_type": "code",
   "execution_count": null,
   "metadata": {},
   "outputs": [],
   "source": [
    "dbRemoveTable(con,\"Pima_train\")"
   ]
  },
  {
   "cell_type": "code",
   "execution_count": null,
   "metadata": {},
   "outputs": [],
   "source": [
    "dbRemoveTable(con,\"confusionMatrix_tbl\")"
   ]
  },
  {
   "cell_type": "code",
   "execution_count": null,
   "metadata": {},
   "outputs": [],
   "source": [
    "td_remove_context()"
   ]
  },
  {
   "cell_type": "markdown",
   "metadata": {},
   "source": [
    "<span style=\"font-size:16px;\">For more information on the Teradata analytic functions, refer to the [Teradata Documentation](https://docs.teradata.com/) and search for Teradata R Package.</span>"
   ]
  },
  {
   "cell_type": "markdown",
   "metadata": {},
   "source": [
    "Copyright 2019-2020 Teradata. All rights reserved."
   ]
  }
 ],
 "metadata": {
  "kernelspec": {
   "display_name": "R",
   "language": "R",
   "name": "ir"
  },
  "language_info": {
   "codemirror_mode": "r",
   "file_extension": ".r",
   "mimetype": "text/x-r-source",
   "name": "R",
   "pygments_lexer": "r",
   "version": "3.6.1"
  }
 },
 "nbformat": 4,
 "nbformat_minor": 4
}

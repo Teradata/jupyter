{
 "cells": [
  {
   "cell_type": "markdown",
   "metadata": {},
   "source": [
    "<h2>Basic Analytic Functions Operations</h2>\n",
    "<p>\n",
    "This Python Notebook provides some basic workflow operations for the Teradata analytic functions library. It will use the plots, species, and surveys datasets created\n",
    "when running the PythonBasicAnalytics-Setup SQL notebook.</p>\n",
    "\n",
    "<i>NOTE: You must have a connection to Teradata Vantage that has the Teradata analytic functions installed.</i>\n",
    "    \n"
   ]
  },
  {
   "cell_type": "markdown",
   "metadata": {},
   "source": [
    "<h3>Get the list of Teradata analytic functions</h3>"
   ]
  },
  {
   "cell_type": "code",
   "execution_count": 49,
   "metadata": {},
   "outputs": [
    {
     "name": "stdout",
     "output_type": "stream",
     "text": [
      "Help on package teradataml:\n",
      "\n",
      "NAME\n",
      "    teradataml\n",
      "\n",
      "PACKAGE CONTENTS\n",
      "    analytics (package)\n",
      "    common (package)\n",
      "    context (package)\n",
      "    data (package)\n",
      "    dataframe (package)\n",
      "    dbutils (package)\n",
      "    lib (package)\n",
      "    options (package)\n",
      "\n",
      "SUBMODULES\n",
      "    tdmlctx\n",
      "\n",
      "DATA\n",
      "    col_types_dict = {}\n",
      "    configure = <teradataml.options.configure._Configure object>\n",
      "    curr_dir = '/opt/conda/lib/python3.6/site-packages/teradataml/data'\n",
      "    display = <teradataml.options.display._Display object>\n",
      "    json_data = {}\n",
      "    td_connection = None\n",
      "    td_sqlalchemy_engine = None\n",
      "    temporary_database_name = None\n",
      "    user_specified_connection = False\n",
      "\n",
      "FILE\n",
      "    /opt/conda/lib/python3.6/site-packages/teradataml/__init__.py\n",
      "\n",
      "\n"
     ]
    }
   ],
   "source": [
    "help(\"teradataml\")"
   ]
  },
  {
   "cell_type": "markdown",
   "metadata": {},
   "source": [
    "<h3>Import statements</h3>"
   ]
  },
  {
   "cell_type": "code",
   "execution_count": 1,
   "metadata": {},
   "outputs": [],
   "source": [
    "from teradataml.context.context import create_context, remove_context, get_context\n",
    "from teradataml.dataframe.dataframe import DataFrame\n",
    "from teradataml.dataframe.copy_to import copy_to_sql\n",
    "from teradataml.options.display import display\n",
    "import numpy as np"
   ]
  },
  {
   "cell_type": "markdown",
   "metadata": {},
   "source": [
    " "
   ]
  },
  {
   "cell_type": "markdown",
   "metadata": {},
   "source": [
    "<h3>Create a connection</h3>"
   ]
  },
  {
   "cell_type": "code",
   "execution_count": null,
   "metadata": {},
   "outputs": [],
   "source": [
    "# Replace your cluster details for user, passwd and host\n",
    "user = \"xxxxx\"\n",
    "passwd = \"xxxxx\"\n",
    "host = \"xxxxx\"\n",
    "eng = create_context(host = host, username = user, password = passwd)\n",
    "conn = eng.connect()\n",
    "print(eng)\n",
    "print(conn)"
   ]
  },
  {
   "cell_type": "markdown",
   "metadata": {},
   "source": [
    " "
   ]
  },
  {
   "cell_type": "markdown",
   "metadata": {},
   "source": [
    "<h3>Create Teradata DataFrames</h3>\n",
    "\n",
    "<i>Insert the tables' data using the Teradata SQL notebooks provided (PythonBasicAnalytics-Cleanup.ipynb and PythonBasicAnalytics-Setup.ipynb) before executing the next cell.</i>"
   ]
  },
  {
   "cell_type": "code",
   "execution_count": 3,
   "metadata": {},
   "outputs": [],
   "source": [
    "plots_data = DataFrame('plots')\n",
    "species_data = DataFrame('species')\n",
    "surveys_data = DataFrame('surveys')"
   ]
  },
  {
   "cell_type": "code",
   "execution_count": 4,
   "metadata": {},
   "outputs": [
    {
     "data": {
      "text/plain": [
       "                        plot_type\n",
       "plot_id                          \n",
       "3        Long-term Krat Exclosure\n",
       "5                Rodent Exclosure\n",
       "4                         Control\n",
       "2                         Control\n",
       "1               Spectab exclosure"
      ]
     },
     "execution_count": 4,
     "metadata": {},
     "output_type": "execute_result"
    }
   ],
   "source": [
    "plots_data.head(5)"
   ]
  },
  {
   "cell_type": "code",
   "execution_count": 5,
   "metadata": {},
   "outputs": [
    {
     "data": {
      "text/plain": [
       "                       genus          species    taxa\n",
       "species_id                                           \n",
       "AS                Ammodramus       savannarum    Bird\n",
       "CB           Campylorhynchus  brunneicapillus    Bird\n",
       "BA                   Baiomys          taylori  Rodent\n",
       "AH          Ammospermophilus          harrisi  Rodent\n",
       "AB                Amphispiza        bilineata    Bird"
      ]
     },
     "execution_count": 5,
     "metadata": {},
     "output_type": "execute_result"
    }
   ],
   "source": [
    "species_data.head(5)"
   ]
  },
  {
   "cell_type": "code",
   "execution_count": 6,
   "metadata": {},
   "outputs": [
    {
     "data": {
      "text/plain": [
       "          month day  year plot_id species_id sex hindfoot_length weight\n",
       "record_id                                                              \n",
       "3             7  16  1977       2       DM     F              37   None\n",
       "5             7  16  1977       3       DM     M              35   None\n",
       "4             7  16  1977       7       DM     M              36   None\n",
       "2             7  16  1977       3       NL     M              33   None\n",
       "1             7  16  1977       2       NL     M              32   None"
      ]
     },
     "execution_count": 6,
     "metadata": {},
     "output_type": "execute_result"
    }
   ],
   "source": [
    "surveys_data.head(5)"
   ]
  },
  {
   "cell_type": "code",
   "execution_count": 7,
   "metadata": {},
   "outputs": [],
   "source": [
    "# Function to verify whether the number of rows of a TeradataML dataframe equals 'value'\n",
    "def assertLength(df, value):\n",
    "    try:\n",
    "        assert(df.shape[0] == value)\n",
    "    except AssertionError:\n",
    "        raise"
   ]
  },
  {
   "cell_type": "markdown",
   "metadata": {},
   "source": [
    " "
   ]
  },
  {
   "cell_type": "markdown",
   "metadata": {},
   "source": [
    "## Verifying the correctness of initial data setup"
   ]
  },
  {
   "cell_type": "code",
   "execution_count": 8,
   "metadata": {},
   "outputs": [],
   "source": [
    "assertLength(plots_data, 24)\n",
    "assertLength(species_data, 54)\n",
    "assertLength(surveys_data, 1236)"
   ]
  },
  {
   "cell_type": "code",
   "execution_count": 9,
   "metadata": {},
   "outputs": [
    {
     "data": {
      "text/plain": [
       "          month day  year plot_id species_id sex hindfoot_length weight\n",
       "record_id                                                              \n",
       "1             7  16  1977       2       NL     M              32   None\n",
       "2             7  16  1977       3       NL     M              33   None\n",
       "3             7  16  1977       2       DM     F              37   None\n",
       "4             7  16  1977       7       DM     M              36   None\n",
       "5             7  16  1977       3       DM     M              35   None\n",
       "6             7  16  1977       1       PF     M              14   None\n",
       "7             7  16  1977       2       PE     F            None   None\n",
       "8             7  16  1977       1       DM     M              37   None\n",
       "9             7  16  1977       1       DM     F              34   None\n",
       "10            7  16  1977       6       PF     F              20   None"
      ]
     },
     "execution_count": 9,
     "metadata": {},
     "output_type": "execute_result"
    }
   ],
   "source": [
    "sorted_surveys_data = surveys_data.sort('record_id')\n",
    "sorted_surveys_data.head(10)"
   ]
  },
  {
   "cell_type": "code",
   "execution_count": 10,
   "metadata": {},
   "outputs": [],
   "source": [
    "# Asserting some values of the survey data\n",
    "pandas_data = sorted_surveys_data.to_pandas()\n",
    "\n",
    "assert(pandas_data.index.name == \"record_id\")\n",
    "assert(list(pandas_data.index)[0:10] == [1, 2, 3, 4, 5, 6, 7, 8, 9, 10] )\n",
    "assert(list(pandas_data['plot_id'][0:10]) == [2, 3, 2, 7, 3, 1, 2, 1, 1, 6] )\n",
    "assert(list(pandas_data['year'][0:10]) == [1977]*10 )\n",
    "assert(list(pandas_data['month'][0:2]) == [7]*2 )\n",
    "assert(list(pandas_data['day'][0:10]) == [16]*10 )\n",
    "assert(list(pandas_data['species_id'][0:10]) == ['NL  ','NL  ','DM  ','DM  ','DM  ','PF  ','PE  ','DM  ','DM  ','PF  '])\n",
    "assert(list(pandas_data['hindfoot_length'][0:6]) == [32.0, 33.0, 37.0, 36.0, 35.0, 14.0])"
   ]
  },
  {
   "cell_type": "markdown",
   "metadata": {},
   "source": [
    " "
   ]
  },
  {
   "cell_type": "markdown",
   "metadata": {},
   "source": [
    "## Subsetting, sorting, transformation, joining of Teradata DataFrames"
   ]
  },
  {
   "cell_type": "code",
   "execution_count": 11,
   "metadata": {},
   "outputs": [
    {
     "data": {
      "text/plain": [
       "          month day  year plot_id species_id   sex hindfoot_length weight\n",
       "record_id                                                                \n",
       "16924         1   6  1990       6       PF       M              16      7\n",
       "16964         1   7  1990      13       RM       M              17     11\n",
       "17229         2  25  1990       8       DM       F              35     40\n",
       "16882         1   6  1990      23       RM       F              17      9\n",
       "17180         2  25  1990      13       RM       M              16     10\n",
       "17027         1  29  1990      21       PG    None            None   None\n",
       "17292         3  29  1990      23       RM       F              16     12\n",
       "16884         1   6  1990      24       RM       M              17      9\n",
       "17149         2  24  1990      17       RM       M              17      9\n",
       "17189         2  25  1990       8       DM       F              37     41"
      ]
     },
     "execution_count": 11,
     "metadata": {},
     "output_type": "execute_result"
    }
   ],
   "source": [
    "# extract the survey observations for the first three months of 1990 with filter\n",
    "surveys1990_winter = surveys_data[(surveys_data.year == 1990) & ((surveys_data.month == 1) | \n",
    "                                                                 (surveys_data.month == 2) | \n",
    "                                                                 (surveys_data.month == 3))]\n",
    "\n",
    "surveys1990_winter"
   ]
  },
  {
   "cell_type": "code",
   "execution_count": 12,
   "metadata": {},
   "outputs": [],
   "source": [
    "assertLength(surveys1990_winter, 16)"
   ]
  },
  {
   "cell_type": "code",
   "execution_count": 13,
   "metadata": {},
   "outputs": [
    {
     "data": {
      "text/plain": [
       "          month day plot_id species_id   sex hindfoot_length weight\n",
       "record_id                                                          \n",
       "16924         1   6       6       PF       M              16      7\n",
       "17027         1  29      21       PG    None            None   None\n",
       "17067         1  30      10       RM       F              18     12\n",
       "17086         1  30       9       DM       M              38     45\n",
       "17147         2  24       7       PE       M              22     26\n",
       "17149         2  24      17       RM       M              17      9\n",
       "17107         1  30       4       DS       M              50    132\n",
       "16964         1   7      13       RM       M              17     11\n",
       "16884         1   6      24       RM       M              17      9\n",
       "16882         1   6      23       RM       F              17      9"
      ]
     },
     "execution_count": 13,
     "metadata": {},
     "output_type": "execute_result"
    }
   ],
   "source": [
    "# Remove redundant 'year' column - as all the rows have same value '1990'\n",
    "surveys1990_winter = surveys1990_winter.drop(['year'], axis = 1)\n",
    "surveys1990_winter.head()"
   ]
  },
  {
   "cell_type": "code",
   "execution_count": 14,
   "metadata": {},
   "outputs": [],
   "source": [
    "assert('year' not in surveys1990_winter.columns) # Verifying whether 'year' is in list of columns"
   ]
  },
  {
   "cell_type": "code",
   "execution_count": 15,
   "metadata": {},
   "outputs": [
    {
     "data": {
      "text/plain": [
       "          month day plot_id species_id   sex hindfoot_length weight\n",
       "record_id                                                          \n",
       "17170         2  25       3       SH       M              30     80\n",
       "16884         1   6      24       RM       M              17      9\n",
       "17149         2  24      17       RM       M              17      9\n",
       "16882         1   6      23       RM       F              17      9\n",
       "17180         2  25      13       RM       M              16     10\n",
       "16964         1   7      13       RM       M              17     11\n",
       "17292         3  29      23       RM       F              16     12\n",
       "17067         1  30      10       RM       F              18     12\n",
       "17027         1  29      21       PG    None            None   None\n",
       "16924         1   6       6       PF       M              16      7"
      ]
     },
     "execution_count": 15,
     "metadata": {},
     "output_type": "execute_result"
    }
   ],
   "source": [
    "# sort the 1990 winter surveys data by descending order of species name, \n",
    "# then by ascending order of weight. \n",
    "sorted_survey1990 = surveys1990_winter.sort(columns=['species_id', 'weight'], ascending=[False, True])\n",
    "sorted_survey1990"
   ]
  },
  {
   "cell_type": "code",
   "execution_count": 16,
   "metadata": {},
   "outputs": [],
   "source": [
    "assert(list(sorted_survey1990.to_pandas().index[0:6]) == [17170, 16884, 17149, 16882, 17180, 16964])"
   ]
  },
  {
   "cell_type": "code",
   "execution_count": 17,
   "metadata": {},
   "outputs": [
    {
     "data": {
      "text/plain": [
       "  species_id count1\n",
       "0       RM        7\n",
       "1       OT        1\n",
       "2       PF        1\n",
       "3       PE        1\n",
       "4       SH        1\n",
       "5       DM        3\n",
       "6       DS        1\n",
       "7       PG        1"
      ]
     },
     "execution_count": 17,
     "metadata": {},
     "output_type": "execute_result"
    }
   ],
   "source": [
    "# Count the number of individuals by species observed in the winter of 1990. \n",
    "# First define a grouping of our surveys1990_winter teradataml DataFrame with group_by, \n",
    "# then call count() to count the rows under each species.\n",
    "\n",
    "count_1990w = surveys1990_winter.groupby('species_id').count().select(['species_id', 'count_record_id'])\n",
    "count_1990w = count_1990w.assign(count1 = count_1990w.count_record_id)\n",
    "count_1990w = count_1990w.drop(['count_record_id'], axis=1)\n",
    "count_1990w"
   ]
  },
  {
   "cell_type": "code",
   "execution_count": 18,
   "metadata": {},
   "outputs": [],
   "source": [
    "assertLength(count_1990w, 8)"
   ]
  },
  {
   "cell_type": "code",
   "execution_count": 19,
   "metadata": {},
   "outputs": [
    {
     "data": {
      "text/plain": [
       "16"
      ]
     },
     "execution_count": 19,
     "metadata": {},
     "output_type": "execute_result"
    }
   ],
   "source": [
    "# Sum of all count1 column values will give total samples (tot_cnt)\n",
    "total_count = count_1990w.select('count1').sum()\n",
    "tot_cnt = total_count.to_pandas()['sum_count1'][0]\n",
    "tot_cnt"
   ]
  },
  {
   "cell_type": "code",
   "execution_count": 20,
   "metadata": {},
   "outputs": [
    {
     "data": {
      "text/plain": [
       "(16, 8)"
      ]
     },
     "execution_count": 20,
     "metadata": {},
     "output_type": "execute_result"
    }
   ],
   "source": [
    "surveys1990_winter.shape"
   ]
  },
  {
   "cell_type": "code",
   "execution_count": 21,
   "metadata": {},
   "outputs": [
    {
     "data": {
      "text/plain": [
       "  species_id count1    prop\n",
       "0       PE        1  0.0625\n",
       "1       RM        7  0.4375\n",
       "2       DM        3  0.1875\n",
       "3       OT        1  0.0625\n",
       "4       PF        1  0.0625\n",
       "5       SH        1  0.0625\n",
       "6       DS        1  0.0625\n",
       "7       PG        1  0.0625"
      ]
     },
     "execution_count": 21,
     "metadata": {},
     "output_type": "execute_result"
    }
   ],
   "source": [
    "# we use the previously obtained count variable to derive the PROPORTION of individuals represented by\n",
    "# each species, and assign the result to a new 'prop' column.\n",
    "count_1990w1 = count_1990w.assign(prop = count_1990w.count1 / float(tot_cnt))\n",
    "count_1990w1"
   ]
  },
  {
   "cell_type": "code",
   "execution_count": 22,
   "metadata": {},
   "outputs": [
    {
     "data": {
      "text/plain": [
       "(8, 3)"
      ]
     },
     "execution_count": 22,
     "metadata": {},
     "output_type": "execute_result"
    }
   ],
   "source": [
    "count_1990w1.shape"
   ]
  },
  {
   "cell_type": "code",
   "execution_count": 23,
   "metadata": {},
   "outputs": [
    {
     "data": {
      "text/plain": [
       "species_id      str\n",
       "count1          int\n",
       "prop          float"
      ]
     },
     "execution_count": 23,
     "metadata": {},
     "output_type": "execute_result"
    }
   ],
   "source": [
    "count_1990w1.dtypes # Type of data in every column"
   ]
  },
  {
   "cell_type": "code",
   "execution_count": 24,
   "metadata": {},
   "outputs": [],
   "source": [
    "# 0.9999999999999998\n",
    "assert(round(count_1990w1.select('prop').sum().to_pandas()['sum_prop'][0]) == 1)"
   ]
  },
  {
   "cell_type": "code",
   "execution_count": 25,
   "metadata": {},
   "outputs": [
    {
     "data": {
      "text/plain": [
       "  count1    prop            genus      species    taxa species_id\n",
       "0      1  0.0625       Peromyscus     eremicus  Rodent       PE  \n",
       "1      7  0.4375  Reithrodontomys    megalotis  Rodent       RM  \n",
       "2      3  0.1875        Dipodomys     merriami  Rodent       DM  \n",
       "3      1  0.0625      Perognathus       flavus  Rodent       PF  \n",
       "4      1  0.0625        Onychomys     torridus  Rodent       OT  \n",
       "5      1  0.0625         Sigmodon     hispidus  Rodent       SH  \n",
       "6      1  0.0625        Dipodomys  spectabilis  Rodent       DS  \n",
       "7      1  0.0625        Pooecetes    gramineus    Bird       PG  "
      ]
     },
     "execution_count": 25,
     "metadata": {},
     "output_type": "execute_result"
    }
   ],
   "source": [
    "# Inner join of DataFrames to get all species data along with count1 and prop.\n",
    "counts_1990w_join_inner = count_1990w1.join(species_data, on = 'species_id', how = \"inner\", lsuffix = 't1', rsuffix = 't2')\n",
    "counts_1990w_join_inner = counts_1990w_join_inner.assign(species_id = counts_1990w_join_inner.t1_species_id)\n",
    "counts_1990w_join_inner = counts_1990w_join_inner.drop(['t1_species_id', 't2_species_id'], axis = 1)\n",
    "counts_1990w_join_inner"
   ]
  },
  {
   "cell_type": "code",
   "execution_count": 26,
   "metadata": {},
   "outputs": [
    {
     "data": {
      "text/plain": [
       "(8, 6)"
      ]
     },
     "execution_count": 26,
     "metadata": {},
     "output_type": "execute_result"
    }
   ],
   "source": [
    "counts_1990w_join_inner.shape"
   ]
  },
  {
   "cell_type": "code",
   "execution_count": 27,
   "metadata": {},
   "outputs": [
    {
     "data": {
      "text/html": [
       "<div>\n",
       "<style scoped>\n",
       "    .dataframe tbody tr th:only-of-type {\n",
       "        vertical-align: middle;\n",
       "    }\n",
       "\n",
       "    .dataframe tbody tr th {\n",
       "        vertical-align: top;\n",
       "    }\n",
       "\n",
       "    .dataframe thead th {\n",
       "        text-align: right;\n",
       "    }\n",
       "</style>\n",
       "<table border=\"1\" class=\"dataframe\">\n",
       "  <thead>\n",
       "    <tr style=\"text-align: right;\">\n",
       "      <th></th>\n",
       "      <th>count1</th>\n",
       "      <th>prop</th>\n",
       "      <th>genus</th>\n",
       "      <th>species</th>\n",
       "      <th>taxa</th>\n",
       "      <th>species_id</th>\n",
       "    </tr>\n",
       "  </thead>\n",
       "  <tbody>\n",
       "    <tr>\n",
       "      <th>0</th>\n",
       "      <td>1</td>\n",
       "      <td>0.0625</td>\n",
       "      <td>Perognathus</td>\n",
       "      <td>flavus</td>\n",
       "      <td>Rodent</td>\n",
       "      <td>PF</td>\n",
       "    </tr>\n",
       "    <tr>\n",
       "      <th>1</th>\n",
       "      <td>1</td>\n",
       "      <td>0.0625</td>\n",
       "      <td>Pooecetes</td>\n",
       "      <td>gramineus</td>\n",
       "      <td>Bird</td>\n",
       "      <td>PG</td>\n",
       "    </tr>\n",
       "    <tr>\n",
       "      <th>2</th>\n",
       "      <td>1</td>\n",
       "      <td>0.0625</td>\n",
       "      <td>Dipodomys</td>\n",
       "      <td>spectabilis</td>\n",
       "      <td>Rodent</td>\n",
       "      <td>DS</td>\n",
       "    </tr>\n",
       "    <tr>\n",
       "      <th>3</th>\n",
       "      <td>1</td>\n",
       "      <td>0.0625</td>\n",
       "      <td>Peromyscus</td>\n",
       "      <td>eremicus</td>\n",
       "      <td>Rodent</td>\n",
       "      <td>PE</td>\n",
       "    </tr>\n",
       "    <tr>\n",
       "      <th>4</th>\n",
       "      <td>1</td>\n",
       "      <td>0.0625</td>\n",
       "      <td>Sigmodon</td>\n",
       "      <td>hispidus</td>\n",
       "      <td>Rodent</td>\n",
       "      <td>SH</td>\n",
       "    </tr>\n",
       "    <tr>\n",
       "      <th>5</th>\n",
       "      <td>1</td>\n",
       "      <td>0.0625</td>\n",
       "      <td>Onychomys</td>\n",
       "      <td>torridus</td>\n",
       "      <td>Rodent</td>\n",
       "      <td>OT</td>\n",
       "    </tr>\n",
       "    <tr>\n",
       "      <th>6</th>\n",
       "      <td>3</td>\n",
       "      <td>0.1875</td>\n",
       "      <td>Dipodomys</td>\n",
       "      <td>merriami</td>\n",
       "      <td>Rodent</td>\n",
       "      <td>DM</td>\n",
       "    </tr>\n",
       "    <tr>\n",
       "      <th>7</th>\n",
       "      <td>7</td>\n",
       "      <td>0.4375</td>\n",
       "      <td>Reithrodontomys</td>\n",
       "      <td>megalotis</td>\n",
       "      <td>Rodent</td>\n",
       "      <td>RM</td>\n",
       "    </tr>\n",
       "  </tbody>\n",
       "</table>\n",
       "</div>"
      ],
      "text/plain": [
       "   count1    prop            genus      species    taxa species_id\n",
       "0       1  0.0625      Perognathus       flavus  Rodent       PF  \n",
       "1       1  0.0625        Pooecetes    gramineus    Bird       PG  \n",
       "2       1  0.0625        Dipodomys  spectabilis  Rodent       DS  \n",
       "3       1  0.0625       Peromyscus     eremicus  Rodent       PE  \n",
       "4       1  0.0625         Sigmodon     hispidus  Rodent       SH  \n",
       "5       1  0.0625        Onychomys     torridus  Rodent       OT  \n",
       "6       3  0.1875        Dipodomys     merriami  Rodent       DM  \n",
       "7       7  0.4375  Reithrodontomys    megalotis  Rodent       RM  "
      ]
     },
     "execution_count": 27,
     "metadata": {},
     "output_type": "execute_result"
    }
   ],
   "source": [
    "counts_1990w_join_inner.to_pandas()"
   ]
  },
  {
   "cell_type": "code",
   "execution_count": 28,
   "metadata": {},
   "outputs": [],
   "source": [
    "# Asserting the columns in counts_1990w_join_inner\n",
    "expected_columns = list(set(species_data.columns + count_1990w1.columns))\n",
    "assert(len(counts_1990w_join_inner.columns) == len(expected_columns))\n",
    "assert(all(col in expected_columns for col in counts_1990w_join_inner.columns))"
   ]
  },
  {
   "cell_type": "code",
   "execution_count": 29,
   "metadata": {},
   "outputs": [],
   "source": [
    "display.max_rows = 20"
   ]
  },
  {
   "cell_type": "code",
   "execution_count": 30,
   "metadata": {},
   "outputs": [
    {
     "name": "stdout",
     "output_type": "stream",
     "text": [
      "(8, 3)\n",
      "['species_id', 'count1', 'prop']\n"
     ]
    }
   ],
   "source": [
    "print(count_1990w1.shape)\n",
    "print(count_1990w1.columns)"
   ]
  },
  {
   "cell_type": "code",
   "execution_count": 31,
   "metadata": {},
   "outputs": [
    {
     "name": "stdout",
     "output_type": "stream",
     "text": [
      "(54, 4)\n",
      "['species_id', 'genus', 'species', 'taxa']\n"
     ]
    }
   ],
   "source": [
    "print(species_data.shape)\n",
    "print(species_data.columns)"
   ]
  },
  {
   "cell_type": "code",
   "execution_count": 32,
   "metadata": {},
   "outputs": [
    {
     "data": {
      "text/plain": [
       "['genus', 'species_id', 'species', 'taxa', 'prop', 'count1']"
      ]
     },
     "execution_count": 32,
     "metadata": {},
     "output_type": "execute_result"
    }
   ],
   "source": [
    "list(set(species_data.columns + count_1990w1.columns))"
   ]
  },
  {
   "cell_type": "code",
   "execution_count": 33,
   "metadata": {},
   "outputs": [
    {
     "name": "stdout",
     "output_type": "stream",
     "text": [
      "(8, 6)\n"
     ]
    },
    {
     "data": {
      "text/plain": [
       "  count1    prop            genus      species    taxa species_id\n",
       "0      1  0.0625      Perognathus       flavus  Rodent       PF  \n",
       "1      1  0.0625        Pooecetes    gramineus    Bird       PG  \n",
       "2      1  0.0625        Dipodomys  spectabilis  Rodent       DS  \n",
       "3      1  0.0625       Peromyscus     eremicus  Rodent       PE  \n",
       "4      1  0.0625         Sigmodon     hispidus  Rodent       SH  \n",
       "5      1  0.0625        Onychomys     torridus  Rodent       OT  \n",
       "6      3  0.1875        Dipodomys     merriami  Rodent       DM  \n",
       "7      7  0.4375  Reithrodontomys    megalotis  Rodent       RM  "
      ]
     },
     "execution_count": 33,
     "metadata": {},
     "output_type": "execute_result"
    }
   ],
   "source": [
    "# Left join of DataFrames to get all species data along with count1 and prop.\n",
    "counts_1990w_join_left = count_1990w1.join(species_data, on = 'species_id', how = \"left\", lsuffix = 't1', rsuffix = 't2')\n",
    "counts_1990w_join_left = counts_1990w_join_left.assign(species_id = counts_1990w_join_left.t1_species_id)\n",
    "counts_1990w_join_left = counts_1990w_join_left.drop(['t1_species_id', 't2_species_id'], axis = 1)\n",
    "print(counts_1990w_join_left.shape)\n",
    "counts_1990w_join_left # Observe one species with \" \" species_id - which is not present in counts_1990w_join_inner"
   ]
  },
  {
   "cell_type": "code",
   "execution_count": 34,
   "metadata": {},
   "outputs": [
    {
     "data": {
      "text/html": [
       "<div>\n",
       "<style scoped>\n",
       "    .dataframe tbody tr th:only-of-type {\n",
       "        vertical-align: middle;\n",
       "    }\n",
       "\n",
       "    .dataframe tbody tr th {\n",
       "        vertical-align: top;\n",
       "    }\n",
       "\n",
       "    .dataframe thead th {\n",
       "        text-align: right;\n",
       "    }\n",
       "</style>\n",
       "<table border=\"1\" class=\"dataframe\">\n",
       "  <thead>\n",
       "    <tr style=\"text-align: right;\">\n",
       "      <th></th>\n",
       "      <th>sum_count1</th>\n",
       "      <th>sum_prop</th>\n",
       "    </tr>\n",
       "  </thead>\n",
       "  <tbody>\n",
       "    <tr>\n",
       "      <th>0</th>\n",
       "      <td>16</td>\n",
       "      <td>1.0</td>\n",
       "    </tr>\n",
       "  </tbody>\n",
       "</table>\n",
       "</div>"
      ],
      "text/plain": [
       "   sum_count1  sum_prop\n",
       "0          16       1.0"
      ]
     },
     "execution_count": 34,
     "metadata": {},
     "output_type": "execute_result"
    }
   ],
   "source": [
    "counts_1990w_join_left.sum().to_pandas() # sum_count1 should be 16 (total samples) and sum_prop should be 1 (adding up all proportions)"
   ]
  },
  {
   "cell_type": "code",
   "execution_count": 35,
   "metadata": {},
   "outputs": [],
   "source": [
    "assert(counts_1990w_join_left.sum().to_pandas()['sum_count1'][0] == 16)\n",
    "assert(counts_1990w_join_left.sum().to_pandas()['sum_prop'][0] == 1.0)"
   ]
  },
  {
   "cell_type": "code",
   "execution_count": 36,
   "metadata": {},
   "outputs": [
    {
     "data": {
      "text/plain": [
       "['Peromyscus',\n",
       " 'Reithrodontomys',\n",
       " 'Dipodomys',\n",
       " 'Perognathus',\n",
       " 'Onychomys',\n",
       " 'Sigmodon',\n",
       " 'Dipodomys',\n",
       " 'Pooecetes']"
      ]
     },
     "execution_count": 36,
     "metadata": {},
     "output_type": "execute_result"
    }
   ],
   "source": [
    "list(counts_1990w_join_left.select('genus').to_pandas()['genus'])"
   ]
  },
  {
   "cell_type": "code",
   "execution_count": 37,
   "metadata": {},
   "outputs": [
    {
     "data": {
      "text/plain": [
       "             genus max_count1  max_prop  max_species max_taxa max_species_id\n",
       "0        Onychomys          1    0.0625     torridus   Rodent           OT  \n",
       "1       Peromyscus          1    0.0625     eremicus   Rodent           PE  \n",
       "2      Perognathus          1    0.0625       flavus   Rodent           PF  \n",
       "3        Pooecetes          1    0.0625    gramineus     Bird           PG  \n",
       "4         Sigmodon          1    0.0625     hispidus   Rodent           SH  \n",
       "5        Dipodomys          3    0.1875  spectabilis   Rodent           DS  \n",
       "6  Reithrodontomys          7    0.4375    megalotis   Rodent           RM  "
      ]
     },
     "execution_count": 37,
     "metadata": {},
     "output_type": "execute_result"
    }
   ],
   "source": [
    "# Get max value of every column grouped by genus\n",
    "counts_1990w_join_left.groupby('genus').max()"
   ]
  },
  {
   "cell_type": "code",
   "execution_count": 38,
   "metadata": {},
   "outputs": [],
   "source": [
    "assertLength(counts_1990w_join_left.groupby('genus').max(), 7)"
   ]
  },
  {
   "cell_type": "code",
   "execution_count": 39,
   "metadata": {},
   "outputs": [
    {
     "data": {
      "text/html": [
       "<div>\n",
       "<style scoped>\n",
       "    .dataframe tbody tr th:only-of-type {\n",
       "        vertical-align: middle;\n",
       "    }\n",
       "\n",
       "    .dataframe tbody tr th {\n",
       "        vertical-align: top;\n",
       "    }\n",
       "\n",
       "    .dataframe thead th {\n",
       "        text-align: right;\n",
       "    }\n",
       "</style>\n",
       "<table border=\"1\" class=\"dataframe\">\n",
       "  <thead>\n",
       "    <tr style=\"text-align: right;\">\n",
       "      <th></th>\n",
       "      <th>taxa</th>\n",
       "      <th>sum_count1</th>\n",
       "    </tr>\n",
       "  </thead>\n",
       "  <tbody>\n",
       "    <tr>\n",
       "      <th>0</th>\n",
       "      <td>Bird</td>\n",
       "      <td>1</td>\n",
       "    </tr>\n",
       "    <tr>\n",
       "      <th>1</th>\n",
       "      <td>Rodent</td>\n",
       "      <td>15</td>\n",
       "    </tr>\n",
       "  </tbody>\n",
       "</table>\n",
       "</div>"
      ],
      "text/plain": [
       "     taxa  sum_count1\n",
       "0    Bird           1\n",
       "1  Rodent          15"
      ]
     },
     "execution_count": 39,
     "metadata": {},
     "output_type": "execute_result"
    }
   ],
   "source": [
    "# Getting count of samples under each taxa\n",
    "taxa_grouby_sum = counts_1990w_join_left.groupby('taxa').sum().select(['taxa', 'sum_count1'])\n",
    "pd_taxa_groupby_sum = taxa_grouby_sum.to_pandas()\n",
    "pd_taxa_groupby_sum"
   ]
  },
  {
   "cell_type": "markdown",
   "metadata": {},
   "source": [
    "# Calculate the fraction of total counts by taxa (birds or rodents) represented by each species within that taxon."
   ]
  },
  {
   "cell_type": "code",
   "execution_count": 40,
   "metadata": {},
   "outputs": [
    {
     "data": {
      "text/plain": [
       "  count1    prop            genus      species cnt_taxa  x_taxa species_id sum_count1\n",
       "0      3  0.1875        Dipodomys     merriami   Rodent  Rodent       DM           15\n",
       "1      1  0.0625        Onychomys     torridus   Rodent  Rodent       OT           15\n",
       "2      1  0.0625        Dipodomys  spectabilis   Rodent  Rodent       DS           15\n",
       "3      1  0.0625       Peromyscus     eremicus   Rodent  Rodent       PE           15\n",
       "4      1  0.0625         Sigmodon     hispidus   Rodent  Rodent       SH           15\n",
       "5      1  0.0625      Perognathus       flavus   Rodent  Rodent       PF           15\n",
       "6      7  0.4375  Reithrodontomys    megalotis   Rodent  Rodent       RM           15\n",
       "7      1  0.0625        Pooecetes    gramineus     Bird    Bird       PG            1"
      ]
     },
     "execution_count": 40,
     "metadata": {},
     "output_type": "execute_result"
    }
   ],
   "source": [
    "taxa_groupby_join_counts = counts_1990w_join_left.join(taxa_grouby_sum, how = 'right', on = 'taxa', \n",
    "                                       lsuffix= 'cnt', rsuffix= 'x')\n",
    "taxa_groupby_join_counts"
   ]
  },
  {
   "cell_type": "code",
   "execution_count": 41,
   "metadata": {},
   "outputs": [
    {
     "data": {
      "text/plain": [
       "  count1    prop            genus      species  x_taxa species_id sum_count1\n",
       "0      1  0.0625         Sigmodon     hispidus  Rodent       SH           15\n",
       "1      3  0.1875        Dipodomys     merriami  Rodent       DM           15\n",
       "2      1  0.0625      Perognathus       flavus  Rodent       PF           15\n",
       "3      1  0.0625        Onychomys     torridus  Rodent       OT           15\n",
       "4      1  0.0625        Pooecetes    gramineus    Bird       PG            1\n",
       "5      7  0.4375  Reithrodontomys    megalotis  Rodent       RM           15\n",
       "6      1  0.0625       Peromyscus     eremicus  Rodent       PE           15\n",
       "7      1  0.0625        Dipodomys  spectabilis  Rodent       DS           15"
      ]
     },
     "execution_count": 41,
     "metadata": {},
     "output_type": "execute_result"
    }
   ],
   "source": [
    "taxa_groupby_join_counts = taxa_groupby_join_counts.drop(['cnt_taxa'], axis=1) # Dropping repeated column\n",
    "taxa_groupby_join_counts "
   ]
  },
  {
   "cell_type": "code",
   "execution_count": 42,
   "metadata": {},
   "outputs": [
    {
     "data": {
      "text/plain": [
       "  count1 prop            genus      species  x_taxa species_id sum_count1\n",
       "0      3    0        Dipodomys     merriami  Rodent       DM           15\n",
       "1      1    0        Onychomys     torridus  Rodent       OT           15\n",
       "2      1    0        Dipodomys  spectabilis  Rodent       DS           15\n",
       "3      1    0       Peromyscus     eremicus  Rodent       PE           15\n",
       "4      1    0         Sigmodon     hispidus  Rodent       SH           15\n",
       "5      1    0      Perognathus       flavus  Rodent       PF           15\n",
       "6      7    0  Reithrodontomys    megalotis  Rodent       RM           15\n",
       "7      1    1        Pooecetes    gramineus    Bird       PG            1"
      ]
     },
     "execution_count": 42,
     "metadata": {},
     "output_type": "execute_result"
    }
   ],
   "source": [
    "taxa_groupby_prop_counts = taxa_groupby_join_counts.assign(\n",
    "                                    prop = taxa_groupby_join_counts.count1 / taxa_groupby_join_counts.sum_count1)\n",
    "# 'prop' column will have zeros as of now as every value lies between 0 and 1\n",
    "taxa_groupby_prop_counts"
   ]
  },
  {
   "cell_type": "code",
   "execution_count": 43,
   "metadata": {},
   "outputs": [
    {
     "data": {
      "text/plain": [
       "Empty DataFrame\n",
       "Columns: [month, day, year, plot_id, species_id, sex, hindfoot_length, weight]\n",
       "Index: []"
      ]
     },
     "execution_count": 43,
     "metadata": {},
     "output_type": "execute_result"
    }
   ],
   "source": [
    "# The features of all surveyed individuals of Reithrodontomys montanus (RO).\n",
    "\n",
    "surveys_RO = surveys_data[surveys_data.species_id == 'RO']\n",
    "surveys_RO"
   ]
  },
  {
   "cell_type": "code",
   "execution_count": null,
   "metadata": {},
   "outputs": [],
   "source": [
    "# Find the average weight and hindfoot length of Dipodomys merriami (DM) individuals \n",
    "# observed in each month (irrespective of the year). Make sure to exclude NA values."
   ]
  },
  {
   "cell_type": "code",
   "execution_count": 44,
   "metadata": {},
   "outputs": [
    {
     "data": {
      "text/plain": [
       "          month day  year plot_id species_id sex hindfoot_length weight\n",
       "record_id                                                              \n",
       "5             7  16  1977       3       DM     M              35   None\n",
       "33871         4  17  2002       4       DM     M              36     52\n",
       "20657         2  19  1993      17       DM     F              32     40\n",
       "18108        12  15  1990      12       DM     F              36     41\n",
       "12072        12  14  1986      24       DM     F              36     43\n",
       "938           6   8  1978      20       DM     M              38     46\n",
       "31322         8  26  2000       9       DM     M              36     51\n",
       "9             7  16  1977       1       DM     F              34   None\n",
       "24153         6  14  1996       4       DM     M              38     46\n",
       "4434          5   4  1981       9       DM     F              36     44"
      ]
     },
     "execution_count": 44,
     "metadata": {},
     "output_type": "execute_result"
    }
   ],
   "source": [
    "surveys_dm = surveys_data[surveys_data.species_id == 'DM']\n",
    "surveys_dm"
   ]
  },
  {
   "cell_type": "code",
   "execution_count": 45,
   "metadata": {},
   "outputs": [
    {
     "data": {
      "text/plain": [
       "(360, 8)"
      ]
     },
     "execution_count": 45,
     "metadata": {},
     "output_type": "execute_result"
    }
   ],
   "source": [
    "surveys_dm.to_pandas().shape"
   ]
  },
  {
   "cell_type": "code",
   "execution_count": 46,
   "metadata": {},
   "outputs": [],
   "source": [
    "survey_monthwise = surveys_dm.groupby('month').agg({'weight' : 'mean', 'hindfoot_length' : 'mean'})"
   ]
  },
  {
   "cell_type": "code",
   "execution_count": 47,
   "metadata": {},
   "outputs": [],
   "source": [
    "assertLength(survey_monthwise, 12)"
   ]
  },
  {
   "cell_type": "code",
   "execution_count": 48,
   "metadata": {},
   "outputs": [],
   "source": [
    "expected_columns = ['month', 'mean_weight', 'mean_hindfoot_length']\n",
    "assert(len(survey_monthwise.columns) == len(expected_columns))\n",
    "assert(all(col in expected_columns for col in survey_monthwise.columns))"
   ]
  },
  {
   "cell_type": "markdown",
   "metadata": {},
   "source": [
    "<span style=\"font-size:16px;\">For more information on the Teradata analytic functions, refer to the [Teradata Documentation](https://docs.teradata.com/) and search for Teradata Python Package.</span>"
   ]
  },
  {
   "cell_type": "markdown",
   "metadata": {},
   "source": [
    "Copyright 2019 Teradata. All rights reserved."
   ]
  }
 ],
 "metadata": {
  "kernelspec": {
   "display_name": "Python 3",
   "language": "python",
   "name": "python3"
  },
  "language_info": {
   "codemirror_mode": {
    "name": "ipython",
    "version": 3
   },
   "file_extension": ".py",
   "mimetype": "text/x-python",
   "name": "python",
   "nbconvert_exporter": "python",
   "pygments_lexer": "ipython3",
   "version": "3.7.3"
  }
 },
 "nbformat": 4,
 "nbformat_minor": 4
}

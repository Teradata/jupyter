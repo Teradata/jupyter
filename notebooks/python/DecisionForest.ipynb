{
 "cells": [
  {
   "cell_type": "markdown",
   "metadata": {},
   "source": [
    "<h2> Decision Forest Example</h2>\n",
    "In this example, you will build a Decision Forest model based on the training dataset and apply the model to the test dataset to evaluate the performance of the model. You will use the load_example_data library call to load the housing_train and housing_test data into your database.\n",
    "\n",
    "<i>NOTE: You must have a connection to Teradata Vantage that has the Teradata analytic functions installed.</i>"
   ]
  },
  {
   "cell_type": "code",
   "execution_count": 1,
   "metadata": {},
   "outputs": [
    {
     "name": "stdout",
     "output_type": "stream",
     "text": [
      "WARNING: Skipped loading table housing_train since it already exists in the database.\n",
      "WARNING: Skipped loading table housing_test since it already exists in the database.\n"
     ]
    },
    {
     "name": "stderr",
     "output_type": "stream",
     "text": [
      "/opt/conda/lib/python3.6/re.py:212: FutureWarning: split() requires a non-empty pattern match.\n",
      "  return _compile(pattern, flags).split(string, maxsplit)\n"
     ]
    }
   ],
   "source": [
    "# Replace your cluster details for user, passwd and host\n",
    "from teradataml.context.context import *\n",
    "from teradataml.dataframe.dataframe import DataFrame\n",
    "from teradataml.data.load_example_data import load_example_data\n",
    "from teradataml.analytics.sqle.DecisionForestPredict import DecisionForestPredict\n",
    "from teradataml.analytics.mle.DecisionForest import DecisionForest\n",
    "\n",
    "user = \"xxxxx\"\n",
    "passwd = \"xxxxx\"\n",
    "host = \"xxxxx\"\n",
    "td_context = create_context(host = host, username = user, password = passwd)\n",
    "\n",
    "load_example_data(\"decisionforestpredict\", [\"housing_train\",\"housing_test\"])\n",
    "formula = \"homestyle ~ driveway + recroom + fullbase + gashw + airco + prefarea + price + lotsize + bedrooms + bathrms + stories + garagepl\"\n",
    "housing_train = DataFrame.from_table(\"housing_train\")\n",
    "rft_model = DecisionForest(data=housing_train,\n",
    "                             formula = formula,\n",
    "                             tree_type=\"classification\",\n",
    "                             ntree=50,\n",
    "                             tree_size=100,\n",
    "                             nodesize=1,\n",
    "                             variance=0.0,\n",
    "                             max_depth=12,\n",
    "                             maxnum_categorical=20,\n",
    "                             mtry=3,\n",
    "                             mtry_seed=100,\n",
    "                             seed=100\n",
    "                             )"
   ]
  },
  {
   "cell_type": "code",
   "execution_count": 2,
   "metadata": {},
   "outputs": [
    {
     "data": {
      "text/plain": [
       "############ STDOUT Output ############\n",
       "\n",
       "                                             message\n",
       "0   Each tree will contain approximately 100 points.\n",
       "1                 Computing 50 classification trees.\n",
       "2  Warning:  worker at 172.24.1.9, task index 0, ...\n",
       "3                           Decision forest created.\n",
       "4                  Poisson sampling parameter: 0.203\n",
       "5                   Query finished in 1.358 seconds.\n",
       "6                 Each worker is computing 50 trees.\n",
       "\n",
       "\n",
       "############ predictive_model Output ############\n",
       "\n",
       "     worker_ip task_index  tree_num                                               tree\n",
       "0  172.24.0.11          1        17  {\"responseCounts_\":{\"Eclectic\":64,\"bungalow\":1...\n",
       "1  172.24.0.11          1        19  {\"responseCounts_\":{\"Eclectic\":55,\"bungalow\":1...\n",
       "2  172.24.0.11          1        20  {\"responseCounts_\":{\"Eclectic\":61,\"bungalow\":9...\n",
       "3  172.24.0.11          1        21  {\"responseCounts_\":{\"Eclectic\":46,\"bungalow\":1...\n",
       "4  172.24.0.11          1        23  {\"responseCounts_\":{\"Eclectic\":74,\"bungalow\":1...\n",
       "5  172.24.0.11          1        24  {\"responseCounts_\":{\"Eclectic\":74,\"bungalow\":1...\n",
       "6  172.24.0.11          1         0  {\"responseCounts_\":{\"Eclectic\":57,\"bungalow\":2...\n",
       "7  172.24.0.11          1         1  {\"responseCounts_\":{\"Eclectic\":65,\"bungalow\":1...\n",
       "8  172.24.0.11          1         2  {\"responseCounts_\":{\"Eclectic\":58,\"bungalow\":1...\n",
       "9  172.24.0.11          1         3  {\"responseCounts_\":{\"Eclectic\":62,\"bungalow\":8...\n",
       "\n",
       "\n",
       "############ monitor_table Output ############\n",
       "\n",
       "                                             message\n",
       "0                           Decision forest created.\n",
       "1                 Computing 50 classification trees.\n",
       "2   Each tree will contain approximately 100 points.\n",
       "3                  Poisson sampling parameter: 0.203\n",
       "4  Warning:  worker at 172.24.1.9, task index 0, ...\n",
       "5                   Query finished in 1.358 seconds.\n",
       "6                 Each worker is computing 50 trees."
      ]
     },
     "execution_count": 2,
     "metadata": {},
     "output_type": "execute_result"
    }
   ],
   "source": [
    "rft_model"
   ]
  },
  {
   "cell_type": "code",
   "execution_count": 3,
   "metadata": {},
   "outputs": [],
   "source": [
    "housing_test = DataFrame.from_table(\"housing_test\")"
   ]
  },
  {
   "cell_type": "code",
   "execution_count": 4,
   "metadata": {},
   "outputs": [],
   "source": [
    "decision_forest_predict_out = DecisionForestPredict(object = rft_model,\n",
    "                                                    newdata = housing_test,\n",
    "                                                    id_column = \"sn\",\n",
    "                                                    detailed = False,\n",
    "                                                    terms = [\"homestyle\"]\n",
    "                                                    )"
   ]
  },
  {
   "cell_type": "code",
   "execution_count": 5,
   "metadata": {},
   "outputs": [
    {
     "data": {
      "text/plain": [
       "############ STDOUT Output ############\n",
       "\n",
       "  homestyle   sn prediction  confidence_lower  confidence_upper\n",
       "0  Eclectic  440   Eclectic              0.94              0.94\n",
       "1  Eclectic  255   Eclectic              0.96              0.96\n",
       "2   Classic  260    Classic              0.86              0.86\n",
       "3  Eclectic  301   Eclectic              0.94              0.94\n",
       "4   Classic  459    Classic              0.82              0.82\n",
       "5  Eclectic  469   Eclectic              0.92              0.92\n",
       "6  Eclectic   38   Eclectic              0.84              0.84\n",
       "7  Eclectic  364   Eclectic              0.96              0.96\n",
       "8   Classic   13    Classic              0.92              0.92\n",
       "9   Classic  463    Classic              0.82              0.82"
      ]
     },
     "execution_count": 5,
     "metadata": {},
     "output_type": "execute_result"
    }
   ],
   "source": [
    "decision_forest_predict_out"
   ]
  },
  {
   "cell_type": "markdown",
   "metadata": {},
   "source": [
    "#### For more information on the Teradata analytic functions, refer to the [Teradata Documentation](https://docs.teradata.com/) and search for Teradata Python Package."
   ]
  },
  {
   "cell_type": "markdown",
   "metadata": {},
   "source": [
    "Copyright 2019 Teradata. All rights reserved."
   ]
  }
 ],
 "metadata": {
  "kernelspec": {
   "display_name": "Python 3",
   "language": "python",
   "name": "python3"
  },
  "language_info": {
   "codemirror_mode": {
    "name": "ipython",
    "version": 3
   },
   "file_extension": ".py",
   "mimetype": "text/x-python",
   "name": "python",
   "nbconvert_exporter": "python",
   "pygments_lexer": "ipython3",
   "version": "3.6.7"
  }
 },
 "nbformat": 4,
 "nbformat_minor": 2
}

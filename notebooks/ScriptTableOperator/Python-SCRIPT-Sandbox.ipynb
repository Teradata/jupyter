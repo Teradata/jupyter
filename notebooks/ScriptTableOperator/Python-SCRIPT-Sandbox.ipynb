{
 "cells": [
  {
   "cell_type": "markdown",
   "metadata": {},
   "source": [
    "### SCRIPT Table Operator: Sandbox And Interaction\n",
    "\n",
    "Example use case:\n",
    "* Clustering analysis of a set of observations by using a K-Means algorithm.\n",
    "\n",
    "Example goals:\n",
    "* Using the STO Sandbox environment to test Python scripts locally on client before installing them on Vantage.\n",
    "* Executing scripts with the SCRIPT Table Operator (STO) through the teradataml STO Script() API.\n",
    "\n",
    "Files needed:\n",
    "* \"ex2p.py\" : Python script that performs the analysis.\n",
    "* \"ex2dataTbl.csv\" : Data file to create the Database table for the example.\n",
    "* \"ex2data.csv\" : Data file without header row for script execution in the STO Sandbox.\n",
    "\n",
    "Notes:\n",
    "* SCRIPT Table Operator (STO) **must be enabled** in your target Advanced SQL Engine, and the Teradata Packages for In-nodes Analytics must be installed on its nodes. Specifically, the required packages for Python are **teradata-python** and **teradata-python-addons**\n",
    "* This notebook utilizes several Python packages in addition to **teradataml** which you may need to install on your client.\n",
    "\n",
    "\n",
    "Notebook workflow:\n",
    "1. Setup environment by loading STO Sandbox docker image from local path on client.\n",
    "2. Test-run user script inside docker container by reading input data from file.\n",
    "3. Install script on Vantage.\n",
    "4. User teradataml's Script wrapper function to execute script on Advanced SQL Engine target server."
   ]
  },
  {
   "cell_type": "markdown",
   "metadata": {},
   "source": [
    "#### Import Statements"
   ]
  },
  {
   "cell_type": "code",
   "execution_count": null,
   "metadata": {},
   "outputs": [],
   "source": [
    "import os\n",
    "import json\n",
    "import unittest\n",
    "import pytest\n",
    "import getpass\n",
    "import pandas as pd\n",
    "from teradataml import create_context, DataFrame, get_context, copy_to_sql, in_schema\n",
    "from teradataml.context.context import *\n",
    "from teradataml.dataframe.dataframe import DataFrame\n",
    "from teradataml.options.display import display\n",
    "from teradataml.table_operators.Script import Script\n",
    "from teradatasqlalchemy import (VARCHAR, INTEGER, FLOAT)\n",
    "from teradataml.table_operators.sandbox_container_util import *\n",
    "from teradataml.options.configure import configure"
   ]
  },
  {
   "cell_type": "markdown",
   "metadata": {},
   "source": [
    "#### Create context"
   ]
  },
  {
   "cell_type": "code",
   "execution_count": null,
   "metadata": {},
   "outputs": [],
   "source": [
    "# Specify a Vantage system to connect to. Specify default database accordingly, or delete the argument.\n",
    "host = input(\"Host: \")\n",
    "username = input(\"Username: \")\n",
    "password = getpass.getpass()\n",
    "# Specify a database name and the database argument, if desired to connect to another than the default.\n",
    "database = \"xxxxx\"\n",
    "con = create_context(host = host, username = username, password = password, database = database)"
   ]
  },
  {
   "cell_type": "code",
   "execution_count": null,
   "metadata": {},
   "outputs": [],
   "source": [
    "# Specify the target folder on client where necessary files are kept for this example.\n",
    "#\n",
    "path_to_files = \"xxxxx\"\n",
    "# Request to print the SQL submitted to the Advanced SQL Engine\n",
    "#\n",
    "display.print_sqlmr_query = True"
   ]
  },
  {
   "cell_type": "markdown",
   "metadata": {},
   "source": [
    "#### Prepare for present example: Create database table"
   ]
  },
  {
   "cell_type": "code",
   "execution_count": null,
   "metadata": {},
   "outputs": [],
   "source": [
    "# Create the database table to use in this example. Use the data file provided.\n",
    "# Ensure path to the data file is correct in the following statement before running it.\n",
    "#\n",
    "dataForTable = pd.read_csv(path_to_files + \"ex2dataTbl.csv\")\n",
    "copy_to_sql(dataForTable, table_name=\"ex2tbl\", if_exists=\"replace\")"
   ]
  },
  {
   "cell_type": "markdown",
   "metadata": {},
   "source": [
    "#### Necessary database set-up to run the SCRIPT Table Operator"
   ]
  },
  {
   "cell_type": "code",
   "execution_count": null,
   "metadata": {},
   "outputs": [],
   "source": [
    "# Set session SEARCHUIFDBPATH to the database where the input table is present \n",
    "# and necessary script files will be installed.\n",
    "#\n",
    "con.execute(\"SET SESSION SEARCHUIFDBPATH = XXXXXX;\")"
   ]
  },
  {
   "cell_type": "markdown",
   "metadata": {},
   "source": [
    "#### Create teradataml DataFrame from Database table"
   ]
  },
  {
   "cell_type": "code",
   "execution_count": null,
   "metadata": {},
   "outputs": [],
   "source": [
    "ex2tbl = DataFrame.from_table(\"ex2tbl\")\n",
    "ex2tbl.to_pandas().head(n=5)"
   ]
  },
  {
   "cell_type": "markdown",
   "metadata": {},
   "source": [
    "#### Create Script object\n",
    "\n",
    "* Ensure the \"files_local_path\" specifies the correct path to your script on your client.\n",
    "* Suitably specify the SEARCHUIFDBPATH database name in the \"script_command\" argument."
   ]
  },
  {
   "cell_type": "code",
   "execution_count": null,
   "metadata": {},
   "outputs": [],
   "source": [
    "sto = Script(data = ex2tbl,\n",
    "             script_name = \"ex2p.py\",\n",
    "             files_local_path = path_to_files, \n",
    "             script_command = \"python3 ./XXXXXX/ex2p.py 7\",\n",
    "             data_partition_column = \"ObsGroup\",\n",
    "             data_order_column = \"ObsID\",\n",
    "             delimiter = ',',\n",
    "             returns = { \"oc1\": INTEGER(), \"oc2\": INTEGER(), \"oc3\": INTEGER(), \"oc4\": FLOAT(),\n",
    "                         \"oc5\": FLOAT(), \"oc6\": FLOAT(), \"oc7\": FLOAT(), \"oc8\": FLOAT() }\n",
    "            )"
   ]
  },
  {
   "cell_type": "markdown",
   "metadata": {},
   "source": [
    "#### Setup STO Sandbox environment by loading image from specified location"
   ]
  },
  {
   "cell_type": "code",
   "execution_count": null,
   "metadata": {},
   "outputs": [],
   "source": [
    "# Currently, when specifying a sandbox by image location, then the \"sandbox_image_name\"\n",
    "# must be specified, too, and must be \"stosandbox:1.0\". Image loading can take a few minutes.\n",
    "# Current images are available at downloads.teradata.com.\n",
    "#\n",
    "setup_sandbox_env(sandbox_image_location = path_to_files + \"sto_sandbox_Python3.7.7_sles12sp3.0.5.4_docker_image.1.0.0.tar.gz\",\n",
    "                  sandbox_image_name = \"stosandbox:1.0\")"
   ]
  },
  {
   "cell_type": "code",
   "execution_count": null,
   "metadata": {},
   "outputs": [],
   "source": [
    "configure.sandbox_container_id"
   ]
  },
  {
   "cell_type": "markdown",
   "metadata": {},
   "source": [
    "#### Run user script in the Sandbox\n",
    "\n",
    "Use input data from a file. This is what happens internally when user calls test_script():\n",
    "1. A container on the docker image that was loaded in previous step is started.\n",
    "2. The input_data_file (specified in test_script() function) and user script (mentioned in script_local_path while creating Script object) are copied to the container.\n",
    "3. User script is executed inside the container by using the script_command specified in the Script() object."
   ]
  },
  {
   "cell_type": "code",
   "execution_count": null,
   "metadata": {},
   "outputs": [],
   "source": [
    "# Ensure path to the input_data_file is correct in the following statement before running it.\n",
    "# The data file for the STO Sandbox has no header row, which is as expected by Python script.\n",
    "#\n",
    "testOut = sto.test_script(input_data_file = path_to_files + \"ex2data.csv\", \n",
    "                          script_args='7'\n",
    "                         )"
   ]
  },
  {
   "cell_type": "code",
   "execution_count": null,
   "metadata": {},
   "outputs": [],
   "source": [
    "testOut.head(n = 5)"
   ]
  },
  {
   "cell_type": "markdown",
   "metadata": {},
   "source": [
    "#### Clean-up Sandbox environment"
   ]
  },
  {
   "cell_type": "code",
   "execution_count": null,
   "metadata": {},
   "outputs": [],
   "source": [
    "cleanup_sandbox_env()"
   ]
  },
  {
   "cell_type": "markdown",
   "metadata": {},
   "source": [
    "#### Install file "
   ]
  },
  {
   "cell_type": "code",
   "execution_count": null,
   "metadata": {},
   "outputs": [],
   "source": [
    "# If older file version has been previously installed, then remove it first to replace.\n",
    "# If file does not exist in Database, then an error will be produced by the following statement.\n",
    "#\n",
    "sto.remove_file(file_identifier='ex2p', force_remove=True)"
   ]
  },
  {
   "cell_type": "code",
   "execution_count": null,
   "metadata": {},
   "outputs": [],
   "source": [
    "sto.install_file(file_identifier='ex2p', file_name='ex2p.py', is_binary=False)"
   ]
  },
  {
   "cell_type": "markdown",
   "metadata": {},
   "source": [
    "#### Run user script via Script Table Operator"
   ]
  },
  {
   "cell_type": "code",
   "execution_count": null,
   "metadata": {},
   "outputs": [],
   "source": [
    "sto.execute_script()"
   ]
  },
  {
   "cell_type": "markdown",
   "metadata": {},
   "source": [
    "#### Cleanup"
   ]
  },
  {
   "cell_type": "code",
   "execution_count": null,
   "metadata": {},
   "outputs": [],
   "source": [
    "sto.remove_file('ex2p',True)"
   ]
  },
  {
   "cell_type": "code",
   "execution_count": null,
   "metadata": {},
   "outputs": [],
   "source": [
    "remove_context()"
   ]
  }
 ],
 "metadata": {
  "kernelspec": {
   "display_name": "Python 3",
   "language": "python",
   "name": "python3"
  },
  "language_info": {
   "codemirror_mode": {
    "name": "ipython",
    "version": 3
   },
   "file_extension": ".py",
   "mimetype": "text/x-python",
   "name": "python",
   "nbconvert_exporter": "python",
   "pygments_lexer": "ipython3",
   "version": "3.8.8"
  }
 },
 "nbformat": 4,
 "nbformat_minor": 4
}
